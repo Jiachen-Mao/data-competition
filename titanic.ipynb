{
 "cells": [
  {
   "cell_type": "markdown",
   "metadata": {},
   "source": [
    "# Titanic: Machine Learning from Disaster\n",
    "\n",
    "https://www.kaggle.com/c/titanic"
   ]
  },
  {
   "cell_type": "code",
   "execution_count": 1,
   "metadata": {},
   "outputs": [],
   "source": [
    "import os\n",
    "import pandas as pd\n",
    "import numpy as np\n",
    "import seaborn as sns\n",
    "import matplotlib.pyplot as plt\n",
    "%matplotlib inline"
   ]
  },
  {
   "cell_type": "markdown",
   "metadata": {},
   "source": [
    "## Load dataset"
   ]
  },
  {
   "cell_type": "code",
   "execution_count": 2,
   "metadata": {},
   "outputs": [],
   "source": [
    "train = pd.read_csv('data/titanic/train.csv')\n",
    "test = pd.read_csv('data/titanic/test.csv')"
   ]
  },
  {
   "cell_type": "code",
   "execution_count": 3,
   "metadata": {},
   "outputs": [
    {
     "name": "stdout",
     "output_type": "stream",
     "text": [
      "<class 'pandas.core.frame.DataFrame'>\n",
      "RangeIndex: 891 entries, 0 to 890\n",
      "Data columns (total 12 columns):\n",
      "PassengerId    891 non-null int64\n",
      "Survived       891 non-null int64\n",
      "Pclass         891 non-null int64\n",
      "Name           891 non-null object\n",
      "Sex            891 non-null object\n",
      "Age            714 non-null float64\n",
      "SibSp          891 non-null int64\n",
      "Parch          891 non-null int64\n",
      "Ticket         891 non-null object\n",
      "Fare           891 non-null float64\n",
      "Cabin          204 non-null object\n",
      "Embarked       889 non-null object\n",
      "dtypes: float64(2), int64(5), object(5)\n",
      "memory usage: 83.6+ KB\n"
     ]
    }
   ],
   "source": [
    "train.info()"
   ]
  },
  {
   "cell_type": "code",
   "execution_count": 4,
   "metadata": {},
   "outputs": [
    {
     "data": {
      "text/plain": [
       "PassengerId      int64\n",
       "Survived         int64\n",
       "Pclass           int64\n",
       "Name            object\n",
       "Sex             object\n",
       "Age            float64\n",
       "SibSp            int64\n",
       "Parch            int64\n",
       "Ticket          object\n",
       "Fare           float64\n",
       "Cabin           object\n",
       "Embarked        object\n",
       "dtype: object"
      ]
     },
     "execution_count": 4,
     "metadata": {},
     "output_type": "execute_result"
    }
   ],
   "source": [
    "train.dtypes"
   ]
  },
  {
   "cell_type": "markdown",
   "metadata": {},
   "source": [
    "## Exploratory analysis"
   ]
  },
  {
   "cell_type": "code",
   "execution_count": 5,
   "metadata": {},
   "outputs": [
    {
     "data": {
      "text/plain": [
       "0    0.616162\n",
       "1    0.383838\n",
       "Name: Survived, dtype: float64"
      ]
     },
     "execution_count": 5,
     "metadata": {},
     "output_type": "execute_result"
    }
   ],
   "source": [
    "df = train\n",
    "df.Survived.value_counts(normalize = True)"
   ]
  },
  {
   "cell_type": "code",
   "execution_count": 6,
   "metadata": {},
   "outputs": [
    {
     "data": {
      "text/plain": [
       "<matplotlib.axes._subplots.AxesSubplot at 0x18fca554a58>"
      ]
     },
     "execution_count": 6,
     "metadata": {},
     "output_type": "execute_result"
    },
    {
     "data": {
      "image/png": "[encoded data removed]",
      "text/plain": [
       "<Figure size 432x288 with 1 Axes>"
      ]
     },
     "metadata": {
      "needs_background": "light"
     },
     "output_type": "display_data"
    }
   ],
   "source": [
    "sns.countplot(df.Survived)"
   ]
  },
  {
   "cell_type": "code",
   "execution_count": 7,
   "metadata": {},
   "outputs": [
    {
     "data": {
      "text/plain": [
       "Pclass\n",
       "1    0.629630\n",
       "2    0.472826\n",
       "3    0.242363\n",
       "Name: Survived, dtype: float64"
      ]
     },
     "execution_count": 7,
     "metadata": {},
     "output_type": "execute_result"
    }
   ],
   "source": [
    "# Pclass\n",
    "\n",
    "train['Survived'].groupby(train['Pclass']).mean()"
   ]
  },
  {
   "cell_type": "code",
   "execution_count": 8,
   "metadata": {},
   "outputs": [
    {
     "data": {
      "text/html": [
       "<div>\n",
       "<style scoped>\n",
       "    .dataframe tbody tr th:only-of-type {\n",
       "        vertical-align: middle;\n",
       "    }\n",
       "\n",
       "    .dataframe tbody tr th {\n",
       "        vertical-align: top;\n",
       "    }\n",
       "\n",
       "    .dataframe thead th {\n",
       "        text-align: right;\n",
       "    }\n",
       "</style>\n",
       "<table border=\"1\" class=\"dataframe\">\n",
       "  <thead>\n",
       "    <tr style=\"text-align: right;\">\n",
       "      <th></th>\n",
       "      <th>mean</th>\n",
       "      <th>count</th>\n",
       "    </tr>\n",
       "    <tr>\n",
       "      <th>Pclass</th>\n",
       "      <th></th>\n",
       "      <th></th>\n",
       "    </tr>\n",
       "  </thead>\n",
       "  <tbody>\n",
       "    <tr>\n",
       "      <th>1</th>\n",
       "      <td>0.629630</td>\n",
       "      <td>216</td>\n",
       "    </tr>\n",
       "    <tr>\n",
       "      <th>2</th>\n",
       "      <td>0.472826</td>\n",
       "      <td>184</td>\n",
       "    </tr>\n",
       "    <tr>\n",
       "      <th>3</th>\n",
       "      <td>0.242363</td>\n",
       "      <td>491</td>\n",
       "    </tr>\n",
       "  </tbody>\n",
       "</table>\n",
       "</div>"
      ],
      "text/plain": [
       "            mean  count\n",
       "Pclass                 \n",
       "1       0.629630    216\n",
       "2       0.472826    184\n",
       "3       0.242363    491"
      ]
     },
     "execution_count": 8,
     "metadata": {},
     "output_type": "execute_result"
    }
   ],
   "source": [
    "df.Survived.groupby(df.Pclass).agg(['mean', 'count'])"
   ]
  },
  {
   "cell_type": "code",
   "execution_count": 9,
   "metadata": {},
   "outputs": [
    {
     "data": {
      "text/plain": [
       "<matplotlib.axes._subplots.AxesSubplot at 0x18fc5b0e9e8>"
      ]
     },
     "execution_count": 9,
     "metadata": {},
     "output_type": "execute_result"
    },
    {
     "data": {
      "image/png": "[encoded data removed]",
      "text/plain": [
       "<Figure size 432x288 with 1 Axes>"
      ]
     },
     "metadata": {
      "needs_background": "light"
     },
     "output_type": "display_data"
    }
   ],
   "source": [
    "sns.countplot(train['Pclass'], hue = train['Survived'])"
   ]
  },
  {
   "cell_type": "code",
   "execution_count": 10,
   "metadata": {},
   "outputs": [
    {
     "data": {
      "text/plain": [
       "0                              Braund, Mr. Owen Harris\n",
       "1    Cumings, Mrs. John Bradley (Florence Briggs Th...\n",
       "2                               Heikkinen, Miss. Laina\n",
       "3         Futrelle, Mrs. Jacques Heath (Lily May Peel)\n",
       "4                             Allen, Mr. William Henry\n",
       "Name: Name, dtype: object"
      ]
     },
     "execution_count": 10,
     "metadata": {},
     "output_type": "execute_result"
    }
   ],
   "source": [
    "# Name\n",
    "\n",
    "train['Name'].head()"
   ]
  },
  {
   "cell_type": "code",
   "execution_count": 11,
   "metadata": {},
   "outputs": [
    {
     "data": {
      "text/plain": [
       "Mr.          517\n",
       "Miss.        182\n",
       "Mrs.         125\n",
       "Master.       40\n",
       "Dr.            7\n",
       "Rev.           6\n",
       "Col.           2\n",
       "Major.         2\n",
       "Mlle.          2\n",
       "Mme.           1\n",
       "Sir.           1\n",
       "Jonkheer.      1\n",
       "the            1\n",
       "Capt.          1\n",
       "Lady.          1\n",
       "Ms.            1\n",
       "Don.           1\n",
       "Name: Name_Title, dtype: int64"
      ]
     },
     "execution_count": 11,
     "metadata": {},
     "output_type": "execute_result"
    }
   ],
   "source": [
    "train['Name_Title'] = train['Name'].apply(lambda x: x.split(',')[1]).apply(lambda x: x.split()[0])\n",
    "train['Name_Title'].value_counts()"
   ]
  },
  {
   "cell_type": "code",
   "execution_count": 12,
   "metadata": {},
   "outputs": [
    {
     "data": {
      "text/plain": [
       "Name_Title\n",
       "Capt.        0.000000\n",
       "Col.         0.500000\n",
       "Don.         0.000000\n",
       "Dr.          0.428571\n",
       "Jonkheer.    0.000000\n",
       "Lady.        1.000000\n",
       "Major.       0.500000\n",
       "Master.      0.575000\n",
       "Miss.        0.697802\n",
       "Mlle.        1.000000\n",
       "Mme.         1.000000\n",
       "Mr.          0.156673\n",
       "Mrs.         0.792000\n",
       "Ms.          1.000000\n",
       "Rev.         0.000000\n",
       "Sir.         1.000000\n",
       "the          1.000000\n",
       "Name: Survived, dtype: float64"
      ]
     },
     "execution_count": 12,
     "metadata": {},
     "output_type": "execute_result"
    }
   ],
   "source": [
    "train['Survived'].groupby(train['Name_Title']).mean()"
   ]
  },
  {
   "cell_type": "code",
   "execution_count": 13,
   "metadata": {},
   "outputs": [
    {
     "data": {
      "text/plain": [
       "(11.999, 19.0]    204\n",
       "(23.0, 27.0]      197\n",
       "(32.0, 82.0]      169\n",
       "(27.0, 32.0]      165\n",
       "(19.0, 23.0]      156\n",
       "Name: Name_Len, dtype: int64"
      ]
     },
     "execution_count": 13,
     "metadata": {},
     "output_type": "execute_result"
    }
   ],
   "source": [
    "train['Name_Len'] = train['Name'].apply(lambda x: len(x))\n",
    "train['Survived'].groupby(pd.qcut(train['Name_Len'], 5)).mean()\n",
    "pd.qcut(train['Name_Len'], 5).value_counts()"
   ]
  },
  {
   "cell_type": "code",
   "execution_count": 14,
   "metadata": {},
   "outputs": [
    {
     "data": {
      "text/plain": [
       "male      0.647587\n",
       "female    0.352413\n",
       "Name: Sex, dtype: float64"
      ]
     },
     "execution_count": 14,
     "metadata": {},
     "output_type": "execute_result"
    }
   ],
   "source": [
    "# Sex\n",
    "\n",
    "train['Sex'].value_counts(normalize = True)"
   ]
  },
  {
   "cell_type": "code",
   "execution_count": 15,
   "metadata": {},
   "outputs": [
    {
     "data": {
      "text/plain": [
       "Sex\n",
       "female    0.742038\n",
       "male      0.188908\n",
       "Name: Survived, dtype: float64"
      ]
     },
     "execution_count": 15,
     "metadata": {},
     "output_type": "execute_result"
    }
   ],
   "source": [
    "train['Survived'].groupby(train['Sex']).mean()"
   ]
  },
  {
   "cell_type": "code",
   "execution_count": 16,
   "metadata": {},
   "outputs": [
    {
     "data": {
      "text/plain": [
       "Age\n",
       "False    0.406162\n",
       "True     0.293785\n",
       "Name: Survived, dtype: float64"
      ]
     },
     "execution_count": 16,
     "metadata": {},
     "output_type": "execute_result"
    }
   ],
   "source": [
    "# Age\n",
    "\n",
    "train['Survived'].groupby(train['Age'].isnull()).mean()"
   ]
  },
  {
   "cell_type": "code",
   "execution_count": 17,
   "metadata": {},
   "outputs": [
    {
     "data": {
      "text/plain": [
       "Age\n",
       "(0.419, 19.0]    0.481707\n",
       "(19.0, 25.0]     0.328467\n",
       "(25.0, 31.8]     0.393701\n",
       "(31.8, 41.0]     0.437500\n",
       "(41.0, 80.0]     0.373239\n",
       "Name: Survived, dtype: float64"
      ]
     },
     "execution_count": 17,
     "metadata": {},
     "output_type": "execute_result"
    }
   ],
   "source": [
    "train['Survived'].groupby(pd.qcut(train['Age'], 5)).mean()"
   ]
  },
  {
   "cell_type": "code",
   "execution_count": 18,
   "metadata": {},
   "outputs": [
    {
     "data": {
      "text/plain": [
       "(0.419, 19.0]    164\n",
       "(31.8, 41.0]     144\n",
       "(41.0, 80.0]     142\n",
       "(19.0, 25.0]     137\n",
       "(25.0, 31.8]     127\n",
       "Name: Age, dtype: int64"
      ]
     },
     "execution_count": 18,
     "metadata": {},
     "output_type": "execute_result"
    }
   ],
   "source": [
    "pd.qcut(train['Age'], 5).value_counts()"
   ]
  },
  {
   "cell_type": "code",
   "execution_count": 19,
   "metadata": {},
   "outputs": [
    {
     "data": {
      "text/plain": [
       "SibSp\n",
       "0    0.345395\n",
       "1    0.535885\n",
       "2    0.464286\n",
       "3    0.250000\n",
       "4    0.166667\n",
       "5    0.000000\n",
       "8    0.000000\n",
       "Name: Survived, dtype: float64"
      ]
     },
     "execution_count": 19,
     "metadata": {},
     "output_type": "execute_result"
    }
   ],
   "source": [
    "# SibSp\n",
    "\n",
    "train['Survived'].groupby(train['SibSp']).mean()"
   ]
  },
  {
   "cell_type": "code",
   "execution_count": 20,
   "metadata": {},
   "outputs": [
    {
     "data": {
      "text/plain": [
       "0    608\n",
       "1    209\n",
       "2     28\n",
       "4     18\n",
       "3     16\n",
       "8      7\n",
       "5      5\n",
       "Name: SibSp, dtype: int64"
      ]
     },
     "execution_count": 20,
     "metadata": {},
     "output_type": "execute_result"
    }
   ],
   "source": [
    "train['SibSp'].value_counts()"
   ]
  },
  {
   "cell_type": "code",
   "execution_count": 21,
   "metadata": {},
   "outputs": [
    {
     "data": {
      "text/plain": [
       "Parch\n",
       "0    0.343658\n",
       "1    0.550847\n",
       "2    0.500000\n",
       "3    0.600000\n",
       "4    0.000000\n",
       "5    0.200000\n",
       "6    0.000000\n",
       "Name: Survived, dtype: float64"
      ]
     },
     "execution_count": 21,
     "metadata": {},
     "output_type": "execute_result"
    }
   ],
   "source": [
    "# Parch\n",
    "\n",
    "train['Survived'].groupby(train['Parch']).mean()"
   ]
  },
  {
   "cell_type": "code",
   "execution_count": 22,
   "metadata": {},
   "outputs": [
    {
     "data": {
      "text/plain": [
       "0    678\n",
       "1    118\n",
       "2     80\n",
       "5      5\n",
       "3      5\n",
       "4      4\n",
       "6      1\n",
       "Name: Parch, dtype: int64"
      ]
     },
     "execution_count": 22,
     "metadata": {},
     "output_type": "execute_result"
    }
   ],
   "source": [
    "train['Parch'].value_counts()"
   ]
  },
  {
   "cell_type": "code",
   "execution_count": 23,
   "metadata": {},
   "outputs": [
    {
     "data": {
      "text/plain": [
       "0           A/5 21171\n",
       "1            PC 17599\n",
       "2    STON/O2. 3101282\n",
       "3              113803\n",
       "4              373450\n",
       "5              330877\n",
       "6               17463\n",
       "7              349909\n",
       "8              347742\n",
       "9              237736\n",
       "Name: Ticket, dtype: object"
      ]
     },
     "execution_count": 23,
     "metadata": {},
     "output_type": "execute_result"
    }
   ],
   "source": [
    "# Ticket\n",
    "\n",
    "train['Ticket'].head(10)"
   ]
  },
  {
   "cell_type": "code",
   "execution_count": 24,
   "metadata": {},
   "outputs": [
    {
     "data": {
      "text/plain": [
       "6     419\n",
       "5     131\n",
       "4     101\n",
       "8      76\n",
       "10     41\n",
       "7      27\n",
       "9      26\n",
       "17     14\n",
       "16     11\n",
       "13     10\n",
       "12     10\n",
       "15      9\n",
       "11      8\n",
       "18      6\n",
       "3       2\n",
       "Name: Ticket_Len, dtype: int64"
      ]
     },
     "execution_count": 24,
     "metadata": {},
     "output_type": "execute_result"
    }
   ],
   "source": [
    "train['Ticket_Len'] = train['Ticket'].apply(lambda x: len(x))\n",
    "train['Ticket_Len'].value_counts()"
   ]
  },
  {
   "cell_type": "code",
   "execution_count": 25,
   "metadata": {},
   "outputs": [
    {
     "data": {
      "text/plain": [
       "3    301\n",
       "2    183\n",
       "1    146\n",
       "P     65\n",
       "S     65\n",
       "C     47\n",
       "A     29\n",
       "W     13\n",
       "4     10\n",
       "7      9\n",
       "F      7\n",
       "6      6\n",
       "L      4\n",
       "5      3\n",
       "8      2\n",
       "9      1\n",
       "Name: Ticket_Lett, dtype: int64"
      ]
     },
     "execution_count": 25,
     "metadata": {},
     "output_type": "execute_result"
    }
   ],
   "source": [
    "train['Ticket_Lett'] = train['Ticket'].apply(lambda x: str(x)[0])\n",
    "train['Ticket_Lett'].value_counts()"
   ]
  },
  {
   "cell_type": "code",
   "execution_count": 26,
   "metadata": {},
   "outputs": [
    {
     "data": {
      "text/plain": [
       "Ticket_Lett\n",
       "1    0.630137\n",
       "2    0.464481\n",
       "3    0.239203\n",
       "4    0.200000\n",
       "5    0.000000\n",
       "6    0.166667\n",
       "7    0.111111\n",
       "8    0.000000\n",
       "9    1.000000\n",
       "A    0.068966\n",
       "C    0.340426\n",
       "F    0.571429\n",
       "L    0.250000\n",
       "P    0.646154\n",
       "S    0.323077\n",
       "W    0.153846\n",
       "Name: Survived, dtype: float64"
      ]
     },
     "execution_count": 26,
     "metadata": {},
     "output_type": "execute_result"
    }
   ],
   "source": [
    "train.groupby(['Ticket_Lett'])['Survived'].mean()"
   ]
  },
  {
   "cell_type": "code",
   "execution_count": 27,
   "metadata": {},
   "outputs": [
    {
     "data": {
      "text/plain": [
       "(-0.001, 8.662]    308\n",
       "(26.0, 512.329]    295\n",
       "(8.662, 26.0]      288\n",
       "Name: Fare, dtype: int64"
      ]
     },
     "execution_count": 27,
     "metadata": {},
     "output_type": "execute_result"
    }
   ],
   "source": [
    "# Fare\n",
    "\n",
    "pd.qcut(train['Fare'], 3).value_counts()"
   ]
  },
  {
   "cell_type": "code",
   "execution_count": 28,
   "metadata": {},
   "outputs": [
    {
     "data": {
      "text/plain": [
       "Fare\n",
       "(-0.001, 8.662]    0.198052\n",
       "(8.662, 26.0]      0.402778\n",
       "(26.0, 512.329]    0.559322\n",
       "Name: Survived, dtype: float64"
      ]
     },
     "execution_count": 28,
     "metadata": {},
     "output_type": "execute_result"
    }
   ],
   "source": [
    "train['Survived'].groupby(pd.qcut(train['Fare'], 3)).mean()"
   ]
  },
  {
   "cell_type": "code",
   "execution_count": 29,
   "metadata": {},
   "outputs": [
    {
     "data": {
      "text/html": [
       "<div>\n",
       "<style scoped>\n",
       "    .dataframe tbody tr th:only-of-type {\n",
       "        vertical-align: middle;\n",
       "    }\n",
       "\n",
       "    .dataframe tbody tr th {\n",
       "        vertical-align: top;\n",
       "    }\n",
       "\n",
       "    .dataframe thead th {\n",
       "        text-align: right;\n",
       "    }\n",
       "</style>\n",
       "<table border=\"1\" class=\"dataframe\">\n",
       "  <thead>\n",
       "    <tr style=\"text-align: right;\">\n",
       "      <th>Pclass</th>\n",
       "      <th>1</th>\n",
       "      <th>2</th>\n",
       "      <th>3</th>\n",
       "    </tr>\n",
       "    <tr>\n",
       "      <th>Fare</th>\n",
       "      <th></th>\n",
       "      <th></th>\n",
       "      <th></th>\n",
       "    </tr>\n",
       "  </thead>\n",
       "  <tbody>\n",
       "    <tr>\n",
       "      <th>(-0.001, 7.854]</th>\n",
       "      <td>6</td>\n",
       "      <td>6</td>\n",
       "      <td>167</td>\n",
       "    </tr>\n",
       "    <tr>\n",
       "      <th>(7.854, 10.5]</th>\n",
       "      <td>0</td>\n",
       "      <td>24</td>\n",
       "      <td>160</td>\n",
       "    </tr>\n",
       "    <tr>\n",
       "      <th>(10.5, 21.679]</th>\n",
       "      <td>0</td>\n",
       "      <td>80</td>\n",
       "      <td>92</td>\n",
       "    </tr>\n",
       "    <tr>\n",
       "      <th>(21.679, 39.688]</th>\n",
       "      <td>64</td>\n",
       "      <td>64</td>\n",
       "      <td>52</td>\n",
       "    </tr>\n",
       "    <tr>\n",
       "      <th>(39.688, 512.329]</th>\n",
       "      <td>146</td>\n",
       "      <td>10</td>\n",
       "      <td>20</td>\n",
       "    </tr>\n",
       "  </tbody>\n",
       "</table>\n",
       "</div>"
      ],
      "text/plain": [
       "Pclass               1   2    3\n",
       "Fare                           \n",
       "(-0.001, 7.854]      6   6  167\n",
       "(7.854, 10.5]        0  24  160\n",
       "(10.5, 21.679]       0  80   92\n",
       "(21.679, 39.688]    64  64   52\n",
       "(39.688, 512.329]  146  10   20"
      ]
     },
     "execution_count": 29,
     "metadata": {},
     "output_type": "execute_result"
    }
   ],
   "source": [
    "pd.crosstab(pd.qcut(train['Fare'], 5), columns = train['Pclass'])"
   ]
  },
  {
   "cell_type": "code",
   "execution_count": 30,
   "metadata": {},
   "outputs": [
    {
     "data": {
      "text/plain": [
       "n    687\n",
       "C     59\n",
       "B     47\n",
       "D     33\n",
       "E     32\n",
       "A     15\n",
       "F     13\n",
       "G      4\n",
       "T      1\n",
       "Name: Cabin_Letter, dtype: int64"
      ]
     },
     "execution_count": 30,
     "metadata": {},
     "output_type": "execute_result"
    }
   ],
   "source": [
    "# Cabin\n",
    "\n",
    "train['Cabin_Letter'] = train['Cabin'].apply(lambda x: str(x)[0])\n",
    "train['Cabin_Letter'].value_counts()"
   ]
  },
  {
   "cell_type": "code",
   "execution_count": 31,
   "metadata": {},
   "outputs": [
    {
     "data": {
      "text/plain": [
       "Cabin_Letter\n",
       "A    0.466667\n",
       "B    0.744681\n",
       "C    0.593220\n",
       "D    0.757576\n",
       "E    0.750000\n",
       "F    0.615385\n",
       "G    0.500000\n",
       "T    0.000000\n",
       "n    0.299854\n",
       "Name: Survived, dtype: float64"
      ]
     },
     "execution_count": 31,
     "metadata": {},
     "output_type": "execute_result"
    }
   ],
   "source": [
    "train['Survived'].groupby(train['Cabin_Letter']).mean()"
   ]
  },
  {
   "cell_type": "code",
   "execution_count": 32,
   "metadata": {},
   "outputs": [
    {
     "data": {
      "text/plain": [
       "(65.667, 148.0]     67\n",
       "(1.999, 28.667]     67\n",
       "(28.667, 65.667]    66\n",
       "Name: Cabin_num, dtype: int64"
      ]
     },
     "execution_count": 32,
     "metadata": {},
     "output_type": "execute_result"
    }
   ],
   "source": [
    "train['Cabin_num'] =train['Cabin'].apply(lambda x: str(x).split(' ')[-1][1:])\n",
    "train['Cabin_num'].replace('an', np.NaN, inplace = True)\n",
    "train['Cabin_num'] = train['Cabin_num'].apply(lambda x: int(x) if not pd.isnull(x) and x != '' else np.NaN)\n",
    "pd.qcut(train['Cabin_num'], 3).value_counts()"
   ]
  },
  {
   "cell_type": "code",
   "execution_count": 33,
   "metadata": {},
   "outputs": [
    {
     "data": {
      "text/plain": [
       "Cabin_num\n",
       "(1.999, 28.667]     0.716418\n",
       "(28.667, 65.667]    0.651515\n",
       "(65.667, 148.0]     0.641791\n",
       "Name: Survived, dtype: float64"
      ]
     },
     "execution_count": 33,
     "metadata": {},
     "output_type": "execute_result"
    }
   ],
   "source": [
    "train['Survived'].groupby(pd.qcut(train['Cabin_num'], 3)).mean()"
   ]
  },
  {
   "cell_type": "code",
   "execution_count": 34,
   "metadata": {},
   "outputs": [
    {
     "data": {
      "text/plain": [
       "-0.06384595922789371"
      ]
     },
     "execution_count": 34,
     "metadata": {},
     "output_type": "execute_result"
    }
   ],
   "source": [
    "train['Survived'].corr(train['Cabin_num'])"
   ]
  },
  {
   "cell_type": "code",
   "execution_count": 35,
   "metadata": {},
   "outputs": [
    {
     "data": {
      "text/plain": [
       "S    644\n",
       "C    168\n",
       "Q     77\n",
       "Name: Embarked, dtype: int64"
      ]
     },
     "execution_count": 35,
     "metadata": {},
     "output_type": "execute_result"
    }
   ],
   "source": [
    "# Embarked\n",
    "\n",
    "train['Embarked'].value_counts()"
   ]
  },
  {
   "cell_type": "code",
   "execution_count": 36,
   "metadata": {},
   "outputs": [
    {
     "data": {
      "text/plain": [
       "S    0.724409\n",
       "C    0.188976\n",
       "Q    0.086614\n",
       "Name: Embarked, dtype: float64"
      ]
     },
     "execution_count": 36,
     "metadata": {},
     "output_type": "execute_result"
    }
   ],
   "source": [
    "train['Embarked'].value_counts(normalize = True)"
   ]
  },
  {
   "cell_type": "code",
   "execution_count": 37,
   "metadata": {},
   "outputs": [
    {
     "data": {
      "text/plain": [
       "Embarked\n",
       "C    0.553571\n",
       "Q    0.389610\n",
       "S    0.336957\n",
       "Name: Survived, dtype: float64"
      ]
     },
     "execution_count": 37,
     "metadata": {},
     "output_type": "execute_result"
    }
   ],
   "source": [
    "train['Survived'].groupby(train['Embarked']).mean()"
   ]
  },
  {
   "cell_type": "code",
   "execution_count": 38,
   "metadata": {},
   "outputs": [
    {
     "data": {
      "text/plain": [
       "<matplotlib.axes._subplots.AxesSubplot at 0x18fcae26518>"
      ]
     },
     "execution_count": 38,
     "metadata": {},
     "output_type": "execute_result"
    },
    {
     "data": {
      "image/png": "[encoded data removed]",
      "text/plain": [
       "<Figure size 432x288 with 1 Axes>"
      ]
     },
     "metadata": {
      "needs_background": "light"
     },
     "output_type": "display_data"
    }
   ],
   "source": [
    "sns.countplot(train['Embarked'], hue = train['Pclass'])"
   ]
  },
  {
   "cell_type": "markdown",
   "metadata": {},
   "source": [
    "## Feature Engineering"
   ]
  },
  {
   "cell_type": "code",
   "execution_count": 39,
   "metadata": {},
   "outputs": [],
   "source": [
    "def names(train, test):\n",
    "    for i in [train, test]:\n",
    "        i['Name_Len'] = i['Name'].apply(lambda x: len(x))\n",
    "        i['Name_Title'] = i['Name'].apply(lambda x: x.split(',')[1]).apply(lambda x: x.split()[0])\n",
    "        del i['Name']\n",
    "    return train, test"
   ]
  },
  {
   "cell_type": "code",
   "execution_count": 40,
   "metadata": {},
   "outputs": [],
   "source": [
    "def age_impute(train, test):\n",
    "    for i in [train, test]:\n",
    "        i['Age_Null_Flag'] = i['Age'].apply(lambda x: 1 if pd.isnull(x) else 0)\n",
    "        data = train.groupby(['Name_Title', 'Pclass'])['Age']\n",
    "        i['Age'] = data.transform(lambda x: x.fillna(x.mean()))\n",
    "    return train, test"
   ]
  },
  {
   "cell_type": "code",
   "execution_count": 41,
   "metadata": {},
   "outputs": [],
   "source": [
    "def fam_size(train, test):\n",
    "    for i in [train, test]:\n",
    "        i['Fam_Size'] = np.where((i['SibSp'] + i['Parch']) == 0, 'Solo',\n",
    "                                np.where((i['SibSp'] + i['Parch']) <= 3, 'Nuclear', 'Big'))\n",
    "        del i['SibSp']\n",
    "        del i['Parch']\n",
    "    return train, test"
   ]
  },
  {
   "cell_type": "code",
   "execution_count": 42,
   "metadata": {},
   "outputs": [],
   "source": [
    "def ticket_grouped(train, test):\n",
    "    for i in [train, test]:\n",
    "        i['Ticket_Lett'] = i['Ticket'].apply(lambda x: str(x)[0])\n",
    "        i['Ticket_Lett'] = i['Ticket_Lett'].apply(lambda x: str(x))\n",
    "        i['Ticket_Lett'] = np.where((i['Ticket_Lett']).isin(['1', '2', '3', 'S', 'P', 'C', 'A']), i['Ticket_Lett'],\n",
    "                                   np.where((i['Ticket_Lett']).isin(['W', '4', '7', '6', 'L', '5', '8']), 'Low_ticket', 'Other_ticket'))\n",
    "        i['Ticket_Len'] = i['Ticket'].apply(lambda x: len(str(x)))\n",
    "        del i['Ticket']\n",
    "    return train, test"
   ]
  },
  {
   "cell_type": "code",
   "execution_count": 43,
   "metadata": {},
   "outputs": [],
   "source": [
    "def cabin(train, test):\n",
    "    for i in [train, test]:\n",
    "        i['Cabin_Letter'] = i['Cabin'].apply(lambda x: str(x)[0])\n",
    "        del i['Cabin']\n",
    "    return train, test"
   ]
  },
  {
   "cell_type": "code",
   "execution_count": 44,
   "metadata": {},
   "outputs": [],
   "source": [
    "def cabin_num(train, test):\n",
    "    for i in [train, test]:\n",
    "        i['Cabin_num1'] = i['Cabin'].apply(lambda x: str(x).split(' ')[-1][1:])\n",
    "        i['Cabin_num1'].replace('an', np.NaN, inplace = True)\n",
    "        i['Cabin_num1'] = i['Cabin_num1'].apply(lambda x: int(x) if not pd.isnull(x) and x != '' else np.NaN)\n",
    "        i['Cabin_num'] = pd.qcut(train['Cabin_num1'], 3)\n",
    "    train = pd.concat((train, pd.get_dummies(train['Cabin_num'], prefix = 'Cabin_num')), axis = 1)\n",
    "    test = pd.concat((test, pd.get_dummies(train['Cabin_num'], prefix = 'Cabin_num')), axis = 1)\n",
    "    del train['Cabin_num']\n",
    "    del test['Cabin_num']\n",
    "    del train['Cabin_num1']\n",
    "    del test['Cabin_num1']\n",
    "    return train, test"
   ]
  },
  {
   "cell_type": "code",
   "execution_count": 45,
   "metadata": {},
   "outputs": [],
   "source": [
    "def embarked_impute(train, test):\n",
    "    for i in [train, test]:\n",
    "        i['Embarked'] = i['Embarked'].fillna('S')\n",
    "    return train, test"
   ]
  },
  {
   "cell_type": "code",
   "execution_count": 46,
   "metadata": {},
   "outputs": [],
   "source": [
    "test['Fare'].fillna(train['Fare'].mean(), inplace = True)"
   ]
  },
  {
   "cell_type": "code",
   "execution_count": 47,
   "metadata": {},
   "outputs": [],
   "source": [
    "def dummies(train, test, columns = ['Pclass', 'Sex', 'Embarked', 'Ticker_Lett', 'Cabin_Letter', 'Name_Title', 'Fam_Size']):\n",
    "    for column in columns:\n",
    "        train[column] = train[column].apply(lambda x: str(x))\n",
    "        test[column] = test[column].apply(lambda x: str(x))\n",
    "        good_cols = [column + '_' + i for i in train[column].unique() if i in test[column].unique()]\n",
    "        train = pd.concat((train, pd.get_dummies(train[column], prefix = column)[good_cols]), axis = 1)\n",
    "        test = pd.concat((test, pd.get_dummies(test[column], prefix = column)[good_cols]), axis = 1)\n",
    "        del train[column]\n",
    "        del test[column]\n",
    "    return train, test"
   ]
  },
  {
   "cell_type": "code",
   "execution_count": 48,
   "metadata": {},
   "outputs": [],
   "source": [
    "def drop(train, test, bye = ['PassengerId']):\n",
    "    for i in [train, test]:\n",
    "        for z in bye:\n",
    "            del i[z]\n",
    "    return train, test"
   ]
  },
  {
   "cell_type": "code",
   "execution_count": 49,
   "metadata": {},
   "outputs": [],
   "source": [
    "train = pd.read_csv('data/titanic/train.csv')\n",
    "test = pd.read_csv('data/titanic/test.csv')"
   ]
  },
  {
   "cell_type": "code",
   "execution_count": 50,
   "metadata": {},
   "outputs": [],
   "source": [
    "train, test = names(train, test)\n",
    "train, test = age_impute(train, test)\n",
    "train, test = cabin_num(train, test)\n",
    "train, test = cabin(train, test)\n",
    "train, test = embarked_impute(train, test)\n",
    "train, test = fam_size(train, test)\n",
    "test['Fare'].fillna(train['Fare'].mean(), inplace = True)\n",
    "train, test = ticket_grouped(train, test)\n",
    "train, test = dummies(train, test, columns = ['Pclass', 'Sex', 'Embarked', 'Ticket_Lett', 'Cabin_Letter', 'Name_Title', 'Fam_Size'])\n",
    "train, test = drop(train, test)"
   ]
  },
  {
   "cell_type": "code",
   "execution_count": 51,
   "metadata": {},
   "outputs": [
    {
     "name": "stdout",
     "output_type": "stream",
     "text": [
      "42\n"
     ]
    }
   ],
   "source": [
    "print(len(train.columns))"
   ]
  },
  {
   "cell_type": "markdown",
   "metadata": {},
   "source": [
    "## Model Selection"
   ]
  },
  {
   "cell_type": "code",
   "execution_count": 52,
   "metadata": {},
   "outputs": [],
   "source": [
    "from sklearn.model_selection import GridSearchCV\n",
    "from sklearn.ensemble import RandomForestClassifier"
   ]
  },
  {
   "cell_type": "code",
   "execution_count": 53,
   "metadata": {},
   "outputs": [
    {
     "name": "stdout",
     "output_type": "stream",
     "text": [
      "0.8428731762065096\n",
      "{'criterion': 'entropy', 'min_samples_leaf': 1, 'min_samples_split': 12, 'n_estimators': 50}\n",
      "{'mean_fit_time': array([0.36103312, 0.44613751, 1.4995962 , 2.69852368, 3.88002475,\n",
      "       0.34175158, 0.42286897, 1.63644203, 2.83531427, 3.68127712,\n",
      "       0.63696194, 0.64992785, 1.99204445, 3.34802612, 4.93110037,\n",
      "       0.93417056, 0.56947692, 2.06115421, 3.31859295, 4.29991198,\n",
      "       0.5031476 , 0.70311896, 2.05483913, 3.1674703 , 4.23244993,\n",
      "       0.57039809, 1.20237525, 2.31015619, 2.86865942, 4.38959042,\n",
      "       0.77326306, 0.89593736, 2.2672689 , 3.32531412, 3.96765256,\n",
      "       0.55274868, 0.79326383, 2.28641136, 3.07909751, 4.49674797,\n",
      "       0.66223216, 0.91089733, 1.85527039, 2.8047777 , 4.06974848,\n",
      "       0.6130263 , 0.58778453, 2.11048985, 3.02555442, 4.34529559,\n",
      "       0.80340115, 0.60006237, 2.62802132, 3.30920887, 3.75631396,\n",
      "       0.76496315, 0.88465214, 1.74832344, 2.73206846, 4.77493477,\n",
      "       0.71311982, 0.96209208, 2.02026192, 3.14325929, 4.26133498,\n",
      "       0.70045884, 0.98906692, 1.94886851, 2.68817886, 3.72239161,\n",
      "       0.48968712, 0.72739649, 2.02893217, 2.71041155, 3.79783201,\n",
      "       0.54188442, 0.61760783, 1.88300276, 3.27162385, 3.93780112,\n",
      "       0.59477099, 0.92198348, 1.87000664, 3.06150421, 3.95594199,\n",
      "       0.51579062, 0.7682778 , 1.6896379 , 2.33772993, 4.41355832,\n",
      "       0.46917677, 0.73476028, 2.01745089, 3.02439936, 3.96266516,\n",
      "       0.62029791, 0.52046831, 2.08000286, 2.9801933 , 3.60237559,\n",
      "       0.49844106, 0.83057753, 1.70960911, 2.45355264, 3.89160395,\n",
      "       0.54543169, 0.66650947, 2.24708541, 2.71225063, 4.00270677,\n",
      "       0.64049252, 0.435793  , 1.89176575, 3.15116294, 3.65020855,\n",
      "       0.4128933 , 0.52193888, 1.88063637, 2.52220813, 3.88577326,\n",
      "       0.46165744, 0.73710036, 1.91470917, 2.84791239, 3.41513101,\n",
      "       0.42752226, 0.72971495, 1.66673533, 2.28397806, 3.72989925,\n",
      "       0.37351998, 0.45910724, 2.22755949, 2.62281402, 3.82904124,\n",
      "       0.49114537, 0.47805484, 2.15124432, 2.92750192, 3.76944439,\n",
      "       0.40125855, 0.44613957, 1.84060574, 2.83767056, 3.57186135,\n",
      "       0.38463688, 0.50133506, 1.90313101, 2.66060638, 3.21293473]), 'std_fit_time': array([0.07625582, 0.0576373 , 0.03287055, 0.24748669, 0.24197819,\n",
      "       0.02654174, 0.06142129, 0.2378605 , 0.29292532, 0.40143927,\n",
      "       0.0900411 , 0.08208962, 0.21051761, 0.19071999, 0.19556745,\n",
      "       0.25445263, 0.06601888, 0.26474007, 0.06197301, 0.58727546,\n",
      "       0.28126058, 0.07871198, 0.3441268 , 0.27171041, 0.22297566,\n",
      "       0.17802909, 0.30957159, 0.06743802, 0.08772236, 0.43722502,\n",
      "       0.22617956, 0.19016902, 0.13090229, 0.22462575, 0.51875129,\n",
      "       0.04820117, 0.13948843, 0.14555796, 0.36461977, 0.40401631,\n",
      "       0.11179505, 0.1212904 , 0.28930173, 0.14777009, 0.20971998,\n",
      "       0.07220534, 0.03371204, 0.17729163, 0.1145098 , 0.378274  ,\n",
      "       0.20471379, 0.08419665, 0.02914544, 0.26675073, 0.27124534,\n",
      "       0.13965984, 0.08546302, 0.15454692, 0.16810086, 0.48064347,\n",
      "       0.12312156, 0.29677099, 0.06486161, 0.28700637, 0.18117459,\n",
      "       0.19864746, 0.24530165, 0.3048115 , 0.16339059, 0.2890702 ,\n",
      "       0.19098172, 0.14907332, 0.06516733, 0.17364537, 0.12591201,\n",
      "       0.1710385 , 0.06166509, 0.13011904, 0.09712151, 0.32485872,\n",
      "       0.04798519, 0.15772736, 0.17635746, 0.36262178, 0.39192908,\n",
      "       0.0480587 , 0.05847437, 0.29798268, 0.29923187, 0.06810704,\n",
      "       0.09807726, 0.11439486, 0.21618138, 0.06101914, 0.16269944,\n",
      "       0.11334165, 0.0390678 , 0.04962431, 0.13980605, 0.29612704,\n",
      "       0.15055762, 0.26684247, 0.16620375, 0.09525644, 0.38951984,\n",
      "       0.03690369, 0.09252822, 0.3222855 , 0.15490314, 0.27086554,\n",
      "       0.25051457, 0.04358226, 0.09661211, 0.03055067, 0.16286638,\n",
      "       0.14005367, 0.08813672, 0.26900276, 0.25110813, 0.02722726,\n",
      "       0.07200923, 0.07438969, 0.03555123, 0.21175722, 0.22089722,\n",
      "       0.00204941, 0.136846  , 0.04940734, 0.24471704, 0.2728799 ,\n",
      "       0.03765272, 0.06559024, 0.10474547, 0.15768236, 0.28464174,\n",
      "       0.16190922, 0.0182151 , 0.15399951, 0.27291634, 0.32002181,\n",
      "       0.12491378, 0.08558287, 0.07532841, 0.16337609, 0.35624822,\n",
      "       0.11396442, 0.07247548, 0.07336173, 0.13988274, 0.05609526]), 'mean_score_time': array([0.18616923, 0.27027734, 0.57047224, 0.33111469, 0.62350162,\n",
      "       0.45112689, 0.43949064, 0.48328837, 0.29188355, 0.51794585,\n",
      "       0.25598224, 0.37999169, 0.6736327 , 0.50099182, 0.7902205 ,\n",
      "       0.22406475, 0.20611437, 0.29321369, 0.63723731, 0.83942008,\n",
      "       0.30197342, 0.63064671, 0.45511317, 0.57130027, 0.70045932,\n",
      "       0.39095489, 0.34574008, 0.34008845, 0.53789337, 0.83732088,\n",
      "       0.2390271 , 0.62266692, 0.42951647, 0.66873813, 0.62698936,\n",
      "       0.55385208, 0.38463839, 0.46508718, 0.56083099, 0.59205874,\n",
      "       0.51362181, 0.23836184, 0.36925832, 0.36776845, 0.61101246,\n",
      "       0.26110586, 0.30986738, 0.27943516, 0.67261076, 0.76365781,\n",
      "       0.31760987, 0.37931625, 0.39361397, 0.83577291, 0.75032481,\n",
      "       0.35671242, 0.30451838, 0.57878526, 0.55517991, 0.96807472,\n",
      "       0.56249571, 0.37300158, 0.33310882, 0.77147675, 0.95433442,\n",
      "       0.46076663, 0.43051434, 0.65159003, 0.46774737, 0.53923146,\n",
      "       0.22074342, 0.29853519, 0.37831831, 0.46023933, 0.64594769,\n",
      "       0.35338648, 0.2406896 , 0.29520901, 0.4751451 , 0.73902313,\n",
      "       0.41595443, 0.38996744, 0.42736022, 0.59988976, 0.56144094,\n",
      "       0.3819863 , 0.42951854, 0.49819112, 0.41393677, 0.59365503,\n",
      "       0.292648  , 0.34259923, 0.43305389, 0.38261414, 0.72943489,\n",
      "       0.17187277, 0.32165154, 0.29751341, 0.39327955, 0.53796816,\n",
      "       0.43386308, 0.3650109 , 0.32520501, 0.42071335, 0.74989827,\n",
      "       0.44370492, 0.30395397, 0.324464  , 0.59038202, 0.54211799,\n",
      "       0.22393767, 0.1487364 , 0.32011485, 0.5304846 , 0.67186586,\n",
      "       0.36214701, 0.39095442, 0.46242841, 0.35089413, 0.49788372,\n",
      "       0.28372129, 0.23969134, 0.34997638, 0.5511543 , 0.58246136,\n",
      "       0.43327387, 0.37366613, 0.3003908 , 0.40391795, 0.54692761,\n",
      "       0.34246786, 0.21243191, 0.37569157, 0.53396392, 0.59374595,\n",
      "       0.15452035, 0.16954565, 0.43450387, 0.44265739, 0.5887572 ,\n",
      "       0.1821804 , 0.34990629, 0.32479644, 0.40726542, 0.45759543,\n",
      "       0.35970879, 0.27819657, 0.31681744, 0.32667708, 0.4122084 ]), 'std_score_time': array([0.00711498, 0.18632313, 0.02040719, 0.04851183, 0.10496997,\n",
      "       0.05421354, 0.00497624, 0.08159068, 0.05046892, 0.054221  ,\n",
      "       0.04817861, 0.17972998, 0.10224697, 0.14157523, 0.2391072 ,\n",
      "       0.0522517 , 0.03344039, 0.02985358, 0.17924544, 0.16167045,\n",
      "       0.06937453, 0.0723879 , 0.01192212, 0.13804627, 0.05997479,\n",
      "       0.18618093, 0.10192082, 0.0283632 , 0.14296864, 0.2505855 ,\n",
      "       0.02008355, 0.30349928, 0.05483403, 0.13125335, 0.02259881,\n",
      "       0.10145096, 0.04699428, 0.039404  , 0.05199165, 0.0452644 ,\n",
      "       0.13507832, 0.09675877, 0.03422839, 0.01226271, 0.17894099,\n",
      "       0.12906437, 0.05723332, 0.01948387, 0.26134783, 0.07701284,\n",
      "       0.0189761 , 0.06651648, 0.0940332 , 0.10372672, 0.19737964,\n",
      "       0.03527387, 0.06159349, 0.04890322, 0.06464548, 0.17089935,\n",
      "       0.19400924, 0.00861763, 0.01302893, 0.07554217, 0.12770679,\n",
      "       0.06065422, 0.16504033, 0.03459024, 0.04480205, 0.0410028 ,\n",
      "       0.0378316 , 0.03879983, 0.02909238, 0.07294773, 0.14763839,\n",
      "       0.04770627, 0.07342035, 0.02168322, 0.0575974 , 0.1198245 ,\n",
      "       0.06169867, 0.01874321, 0.08575929, 0.23693239, 0.05269685,\n",
      "       0.18993565, 0.09057736, 0.05428791, 0.07482123, 0.06659652,\n",
      "       0.03108962, 0.10708504, 0.04387154, 0.05830831, 0.12209364,\n",
      "       0.01246666, 0.23311491, 0.03343043, 0.08502361, 0.02849683,\n",
      "       0.03691035, 0.01006272, 0.0854703 , 0.06573853, 0.07150736,\n",
      "       0.18595799, 0.17648071, 0.03986299, 0.19694094, 0.13926211,\n",
      "       0.02892407, 0.0217017 , 0.02400955, 0.1281308 , 0.17186736,\n",
      "       0.12475257, 0.23251541, 0.02260106, 0.01598988, 0.09720955,\n",
      "       0.07262172, 0.07510566, 0.04098628, 0.05892019, 0.17498235,\n",
      "       0.2034585 , 0.01143904, 0.01690041, 0.10144533, 0.16996668,\n",
      "       0.02521729, 0.08675052, 0.17127939, 0.16234507, 0.08334066,\n",
      "       0.010888  , 0.01915035, 0.10555177, 0.10047677, 0.0572612 ,\n",
      "       0.01661538, 0.12353886, 0.07148189, 0.10103786, 0.01498588,\n",
      "       0.07466594, 0.07594261, 0.04556047, 0.01232371, 0.00063339]), 'param_criterion': masked_array(data=['gini', 'gini', 'gini', 'gini', 'gini', 'gini', 'gini',\n",
      "                   'gini', 'gini', 'gini', 'gini', 'gini', 'gini', 'gini',\n",
      "                   'gini', 'gini', 'gini', 'gini', 'gini', 'gini', 'gini',\n",
      "                   'gini', 'gini', 'gini', 'gini', 'gini', 'gini', 'gini',\n",
      "                   'gini', 'gini', 'gini', 'gini', 'gini', 'gini', 'gini',\n",
      "                   'gini', 'gini', 'gini', 'gini', 'gini', 'gini', 'gini',\n",
      "                   'gini', 'gini', 'gini', 'gini', 'gini', 'gini', 'gini',\n",
      "                   'gini', 'gini', 'gini', 'gini', 'gini', 'gini', 'gini',\n",
      "                   'gini', 'gini', 'gini', 'gini', 'gini', 'gini', 'gini',\n",
      "                   'gini', 'gini', 'gini', 'gini', 'gini', 'gini', 'gini',\n",
      "                   'gini', 'gini', 'gini', 'gini', 'gini', 'entropy',\n",
      "                   'entropy', 'entropy', 'entropy', 'entropy', 'entropy',\n",
      "                   'entropy', 'entropy', 'entropy', 'entropy', 'entropy',\n",
      "                   'entropy', 'entropy', 'entropy', 'entropy', 'entropy',\n",
      "                   'entropy', 'entropy', 'entropy', 'entropy', 'entropy',\n",
      "                   'entropy', 'entropy', 'entropy', 'entropy', 'entropy',\n",
      "                   'entropy', 'entropy', 'entropy', 'entropy', 'entropy',\n",
      "                   'entropy', 'entropy', 'entropy', 'entropy', 'entropy',\n",
      "                   'entropy', 'entropy', 'entropy', 'entropy', 'entropy',\n",
      "                   'entropy', 'entropy', 'entropy', 'entropy', 'entropy',\n",
      "                   'entropy', 'entropy', 'entropy', 'entropy', 'entropy',\n",
      "                   'entropy', 'entropy', 'entropy', 'entropy', 'entropy',\n",
      "                   'entropy', 'entropy', 'entropy', 'entropy', 'entropy',\n",
      "                   'entropy', 'entropy', 'entropy', 'entropy', 'entropy',\n",
      "                   'entropy', 'entropy', 'entropy', 'entropy', 'entropy',\n",
      "                   'entropy', 'entropy', 'entropy', 'entropy'],\n",
      "             mask=[False, False, False, False, False, False, False, False,\n",
      "                   False, False, False, False, False, False, False, False,\n",
      "                   False, False, False, False, False, False, False, False,\n",
      "                   False, False, False, False, False, False, False, False,\n",
      "                   False, False, False, False, False, False, False, False,\n",
      "                   False, False, False, False, False, False, False, False,\n",
      "                   False, False, False, False, False, False, False, False,\n",
      "                   False, False, False, False, False, False, False, False,\n",
      "                   False, False, False, False, False, False, False, False,\n",
      "                   False, False, False, False, False, False, False, False,\n",
      "                   False, False, False, False, False, False, False, False,\n",
      "                   False, False, False, False, False, False, False, False,\n",
      "                   False, False, False, False, False, False, False, False,\n",
      "                   False, False, False, False, False, False, False, False,\n",
      "                   False, False, False, False, False, False, False, False,\n",
      "                   False, False, False, False, False, False, False, False,\n",
      "                   False, False, False, False, False, False, False, False,\n",
      "                   False, False, False, False, False, False, False, False,\n",
      "                   False, False, False, False, False, False],\n",
      "       fill_value='?',\n",
      "            dtype=object), 'param_min_samples_leaf': masked_array(data=[1, 1, 1, 1, 1, 1, 1, 1, 1, 1, 1, 1, 1, 1, 1, 1, 1, 1,\n",
      "                   1, 1, 1, 1, 1, 1, 1, 5, 5, 5, 5, 5, 5, 5, 5, 5, 5, 5,\n",
      "                   5, 5, 5, 5, 5, 5, 5, 5, 5, 5, 5, 5, 5, 5, 10, 10, 10,\n",
      "                   10, 10, 10, 10, 10, 10, 10, 10, 10, 10, 10, 10, 10, 10,\n",
      "                   10, 10, 10, 10, 10, 10, 10, 10, 1, 1, 1, 1, 1, 1, 1, 1,\n",
      "                   1, 1, 1, 1, 1, 1, 1, 1, 1, 1, 1, 1, 1, 1, 1, 1, 1, 5,\n",
      "                   5, 5, 5, 5, 5, 5, 5, 5, 5, 5, 5, 5, 5, 5, 5, 5, 5, 5,\n",
      "                   5, 5, 5, 5, 5, 5, 10, 10, 10, 10, 10, 10, 10, 10, 10,\n",
      "                   10, 10, 10, 10, 10, 10, 10, 10, 10, 10, 10, 10, 10, 10,\n",
      "                   10, 10],\n",
      "             mask=[False, False, False, False, False, False, False, False,\n",
      "                   False, False, False, False, False, False, False, False,\n",
      "                   False, False, False, False, False, False, False, False,\n",
      "                   False, False, False, False, False, False, False, False,\n",
      "                   False, False, False, False, False, False, False, False,\n",
      "                   False, False, False, False, False, False, False, False,\n",
      "                   False, False, False, False, False, False, False, False,\n",
      "                   False, False, False, False, False, False, False, False,\n",
      "                   False, False, False, False, False, False, False, False,\n",
      "                   False, False, False, False, False, False, False, False,\n",
      "                   False, False, False, False, False, False, False, False,\n",
      "                   False, False, False, False, False, False, False, False,\n",
      "                   False, False, False, False, False, False, False, False,\n",
      "                   False, False, False, False, False, False, False, False,\n",
      "                   False, False, False, False, False, False, False, False,\n",
      "                   False, False, False, False, False, False, False, False,\n",
      "                   False, False, False, False, False, False, False, False,\n",
      "                   False, False, False, False, False, False, False, False,\n",
      "                   False, False, False, False, False, False],\n",
      "       fill_value='?',\n",
      "            dtype=object), 'param_min_samples_split': masked_array(data=[2, 2, 2, 2, 2, 4, 4, 4, 4, 4, 10, 10, 10, 10, 10, 12,\n",
      "                   12, 12, 12, 12, 16, 16, 16, 16, 16, 2, 2, 2, 2, 2, 4,\n",
      "                   4, 4, 4, 4, 10, 10, 10, 10, 10, 12, 12, 12, 12, 12, 16,\n",
      "                   16, 16, 16, 16, 2, 2, 2, 2, 2, 4, 4, 4, 4, 4, 10, 10,\n",
      "                   10, 10, 10, 12, 12, 12, 12, 12, 16, 16, 16, 16, 16, 2,\n",
      "                   2, 2, 2, 2, 4, 4, 4, 4, 4, 10, 10, 10, 10, 10, 12, 12,\n",
      "                   12, 12, 12, 16, 16, 16, 16, 16, 2, 2, 2, 2, 2, 4, 4, 4,\n",
      "                   4, 4, 10, 10, 10, 10, 10, 12, 12, 12, 12, 12, 16, 16,\n",
      "                   16, 16, 16, 2, 2, 2, 2, 2, 4, 4, 4, 4, 4, 10, 10, 10,\n",
      "                   10, 10, 12, 12, 12, 12, 12, 16, 16, 16, 16, 16],\n",
      "             mask=[False, False, False, False, False, False, False, False,\n",
      "                   False, False, False, False, False, False, False, False,\n",
      "                   False, False, False, False, False, False, False, False,\n",
      "                   False, False, False, False, False, False, False, False,\n",
      "                   False, False, False, False, False, False, False, False,\n",
      "                   False, False, False, False, False, False, False, False,\n",
      "                   False, False, False, False, False, False, False, False,\n",
      "                   False, False, False, False, False, False, False, False,\n",
      "                   False, False, False, False, False, False, False, False,\n",
      "                   False, False, False, False, False, False, False, False,\n",
      "                   False, False, False, False, False, False, False, False,\n",
      "                   False, False, False, False, False, False, False, False,\n",
      "                   False, False, False, False, False, False, False, False,\n",
      "                   False, False, False, False, False, False, False, False,\n",
      "                   False, False, False, False, False, False, False, False,\n",
      "                   False, False, False, False, False, False, False, False,\n",
      "                   False, False, False, False, False, False, False, False,\n",
      "                   False, False, False, False, False, False, False, False,\n",
      "                   False, False, False, False, False, False],\n",
      "       fill_value='?',\n",
      "            dtype=object), 'param_n_estimators': masked_array(data=[50, 100, 400, 700, 1000, 50, 100, 400, 700, 1000, 50,\n",
      "                   100, 400, 700, 1000, 50, 100, 400, 700, 1000, 50, 100,\n",
      "                   400, 700, 1000, 50, 100, 400, 700, 1000, 50, 100, 400,\n",
      "                   700, 1000, 50, 100, 400, 700, 1000, 50, 100, 400, 700,\n",
      "                   1000, 50, 100, 400, 700, 1000, 50, 100, 400, 700, 1000,\n",
      "                   50, 100, 400, 700, 1000, 50, 100, 400, 700, 1000, 50,\n",
      "                   100, 400, 700, 1000, 50, 100, 400, 700, 1000, 50, 100,\n",
      "                   400, 700, 1000, 50, 100, 400, 700, 1000, 50, 100, 400,\n",
      "                   700, 1000, 50, 100, 400, 700, 1000, 50, 100, 400, 700,\n",
      "                   1000, 50, 100, 400, 700, 1000, 50, 100, 400, 700, 1000,\n",
      "                   50, 100, 400, 700, 1000, 50, 100, 400, 700, 1000, 50,\n",
      "                   100, 400, 700, 1000, 50, 100, 400, 700, 1000, 50, 100,\n",
      "                   400, 700, 1000, 50, 100, 400, 700, 1000, 50, 100, 400,\n",
      "                   700, 1000, 50, 100, 400, 700, 1000],\n",
      "             mask=[False, False, False, False, False, False, False, False,\n",
      "                   False, False, False, False, False, False, False, False,\n",
      "                   False, False, False, False, False, False, False, False,\n",
      "                   False, False, False, False, False, False, False, False,\n",
      "                   False, False, False, False, False, False, False, False,\n",
      "                   False, False, False, False, False, False, False, False,\n",
      "                   False, False, False, False, False, False, False, False,\n",
      "                   False, False, False, False, False, False, False, False,\n",
      "                   False, False, False, False, False, False, False, False,\n",
      "                   False, False, False, False, False, False, False, False,\n",
      "                   False, False, False, False, False, False, False, False,\n",
      "                   False, False, False, False, False, False, False, False,\n",
      "                   False, False, False, False, False, False, False, False,\n",
      "                   False, False, False, False, False, False, False, False,\n",
      "                   False, False, False, False, False, False, False, False,\n",
      "                   False, False, False, False, False, False, False, False,\n",
      "                   False, False, False, False, False, False, False, False,\n",
      "                   False, False, False, False, False, False, False, False,\n",
      "                   False, False, False, False, False, False],\n",
      "       fill_value='?',\n",
      "            dtype=object), 'params': [{'criterion': 'gini', 'min_samples_leaf': 1, 'min_samples_split': 2, 'n_estimators': 50}, {'criterion': 'gini', 'min_samples_leaf': 1, 'min_samples_split': 2, 'n_estimators': 100}, {'criterion': 'gini', 'min_samples_leaf': 1, 'min_samples_split': 2, 'n_estimators': 400}, {'criterion': 'gini', 'min_samples_leaf': 1, 'min_samples_split': 2, 'n_estimators': 700}, {'criterion': 'gini', 'min_samples_leaf': 1, 'min_samples_split': 2, 'n_estimators': 1000}, {'criterion': 'gini', 'min_samples_leaf': 1, 'min_samples_split': 4, 'n_estimators': 50}, {'criterion': 'gini', 'min_samples_leaf': 1, 'min_samples_split': 4, 'n_estimators': 100}, {'criterion': 'gini', 'min_samples_leaf': 1, 'min_samples_split': 4, 'n_estimators': 400}, {'criterion': 'gini', 'min_samples_leaf': 1, 'min_samples_split': 4, 'n_estimators': 700}, {'criterion': 'gini', 'min_samples_leaf': 1, 'min_samples_split': 4, 'n_estimators': 1000}, {'criterion': 'gini', 'min_samples_leaf': 1, 'min_samples_split': 10, 'n_estimators': 50}, {'criterion': 'gini', 'min_samples_leaf': 1, 'min_samples_split': 10, 'n_estimators': 100}, {'criterion': 'gini', 'min_samples_leaf': 1, 'min_samples_split': 10, 'n_estimators': 400}, {'criterion': 'gini', 'min_samples_leaf': 1, 'min_samples_split': 10, 'n_estimators': 700}, {'criterion': 'gini', 'min_samples_leaf': 1, 'min_samples_split': 10, 'n_estimators': 1000}, {'criterion': 'gini', 'min_samples_leaf': 1, 'min_samples_split': 12, 'n_estimators': 50}, {'criterion': 'gini', 'min_samples_leaf': 1, 'min_samples_split': 12, 'n_estimators': 100}, {'criterion': 'gini', 'min_samples_leaf': 1, 'min_samples_split': 12, 'n_estimators': 400}, {'criterion': 'gini', 'min_samples_leaf': 1, 'min_samples_split': 12, 'n_estimators': 700}, {'criterion': 'gini', 'min_samples_leaf': 1, 'min_samples_split': 12, 'n_estimators': 1000}, {'criterion': 'gini', 'min_samples_leaf': 1, 'min_samples_split': 16, 'n_estimators': 50}, {'criterion': 'gini', 'min_samples_leaf': 1, 'min_samples_split': 16, 'n_estimators': 100}, {'criterion': 'gini', 'min_samples_leaf': 1, 'min_samples_split': 16, 'n_estimators': 400}, {'criterion': 'gini', 'min_samples_leaf': 1, 'min_samples_split': 16, 'n_estimators': 700}, {'criterion': 'gini', 'min_samples_leaf': 1, 'min_samples_split': 16, 'n_estimators': 1000}, {'criterion': 'gini', 'min_samples_leaf': 5, 'min_samples_split': 2, 'n_estimators': 50}, {'criterion': 'gini', 'min_samples_leaf': 5, 'min_samples_split': 2, 'n_estimators': 100}, {'criterion': 'gini', 'min_samples_leaf': 5, 'min_samples_split': 2, 'n_estimators': 400}, {'criterion': 'gini', 'min_samples_leaf': 5, 'min_samples_split': 2, 'n_estimators': 700}, {'criterion': 'gini', 'min_samples_leaf': 5, 'min_samples_split': 2, 'n_estimators': 1000}, {'criterion': 'gini', 'min_samples_leaf': 5, 'min_samples_split': 4, 'n_estimators': 50}, {'criterion': 'gini', 'min_samples_leaf': 5, 'min_samples_split': 4, 'n_estimators': 100}, {'criterion': 'gini', 'min_samples_leaf': 5, 'min_samples_split': 4, 'n_estimators': 400}, {'criterion': 'gini', 'min_samples_leaf': 5, 'min_samples_split': 4, 'n_estimators': 700}, {'criterion': 'gini', 'min_samples_leaf': 5, 'min_samples_split': 4, 'n_estimators': 1000}, {'criterion': 'gini', 'min_samples_leaf': 5, 'min_samples_split': 10, 'n_estimators': 50}, {'criterion': 'gini', 'min_samples_leaf': 5, 'min_samples_split': 10, 'n_estimators': 100}, {'criterion': 'gini', 'min_samples_leaf': 5, 'min_samples_split': 10, 'n_estimators': 400}, {'criterion': 'gini', 'min_samples_leaf': 5, 'min_samples_split': 10, 'n_estimators': 700}, {'criterion': 'gini', 'min_samples_leaf': 5, 'min_samples_split': 10, 'n_estimators': 1000}, {'criterion': 'gini', 'min_samples_leaf': 5, 'min_samples_split': 12, 'n_estimators': 50}, {'criterion': 'gini', 'min_samples_leaf': 5, 'min_samples_split': 12, 'n_estimators': 100}, {'criterion': 'gini', 'min_samples_leaf': 5, 'min_samples_split': 12, 'n_estimators': 400}, {'criterion': 'gini', 'min_samples_leaf': 5, 'min_samples_split': 12, 'n_estimators': 700}, {'criterion': 'gini', 'min_samples_leaf': 5, 'min_samples_split': 12, 'n_estimators': 1000}, {'criterion': 'gini', 'min_samples_leaf': 5, 'min_samples_split': 16, 'n_estimators': 50}, {'criterion': 'gini', 'min_samples_leaf': 5, 'min_samples_split': 16, 'n_estimators': 100}, {'criterion': 'gini', 'min_samples_leaf': 5, 'min_samples_split': 16, 'n_estimators': 400}, {'criterion': 'gini', 'min_samples_leaf': 5, 'min_samples_split': 16, 'n_estimators': 700}, {'criterion': 'gini', 'min_samples_leaf': 5, 'min_samples_split': 16, 'n_estimators': 1000}, {'criterion': 'gini', 'min_samples_leaf': 10, 'min_samples_split': 2, 'n_estimators': 50}, {'criterion': 'gini', 'min_samples_leaf': 10, 'min_samples_split': 2, 'n_estimators': 100}, {'criterion': 'gini', 'min_samples_leaf': 10, 'min_samples_split': 2, 'n_estimators': 400}, {'criterion': 'gini', 'min_samples_leaf': 10, 'min_samples_split': 2, 'n_estimators': 700}, {'criterion': 'gini', 'min_samples_leaf': 10, 'min_samples_split': 2, 'n_estimators': 1000}, {'criterion': 'gini', 'min_samples_leaf': 10, 'min_samples_split': 4, 'n_estimators': 50}, {'criterion': 'gini', 'min_samples_leaf': 10, 'min_samples_split': 4, 'n_estimators': 100}, {'criterion': 'gini', 'min_samples_leaf': 10, 'min_samples_split': 4, 'n_estimators': 400}, {'criterion': 'gini', 'min_samples_leaf': 10, 'min_samples_split': 4, 'n_estimators': 700}, {'criterion': 'gini', 'min_samples_leaf': 10, 'min_samples_split': 4, 'n_estimators': 1000}, {'criterion': 'gini', 'min_samples_leaf': 10, 'min_samples_split': 10, 'n_estimators': 50}, {'criterion': 'gini', 'min_samples_leaf': 10, 'min_samples_split': 10, 'n_estimators': 100}, {'criterion': 'gini', 'min_samples_leaf': 10, 'min_samples_split': 10, 'n_estimators': 400}, {'criterion': 'gini', 'min_samples_leaf': 10, 'min_samples_split': 10, 'n_estimators': 700}, {'criterion': 'gini', 'min_samples_leaf': 10, 'min_samples_split': 10, 'n_estimators': 1000}, {'criterion': 'gini', 'min_samples_leaf': 10, 'min_samples_split': 12, 'n_estimators': 50}, {'criterion': 'gini', 'min_samples_leaf': 10, 'min_samples_split': 12, 'n_estimators': 100}, {'criterion': 'gini', 'min_samples_leaf': 10, 'min_samples_split': 12, 'n_estimators': 400}, {'criterion': 'gini', 'min_samples_leaf': 10, 'min_samples_split': 12, 'n_estimators': 700}, {'criterion': 'gini', 'min_samples_leaf': 10, 'min_samples_split': 12, 'n_estimators': 1000}, {'criterion': 'gini', 'min_samples_leaf': 10, 'min_samples_split': 16, 'n_estimators': 50}, {'criterion': 'gini', 'min_samples_leaf': 10, 'min_samples_split': 16, 'n_estimators': 100}, {'criterion': 'gini', 'min_samples_leaf': 10, 'min_samples_split': 16, 'n_estimators': 400}, {'criterion': 'gini', 'min_samples_leaf': 10, 'min_samples_split': 16, 'n_estimators': 700}, {'criterion': 'gini', 'min_samples_leaf': 10, 'min_samples_split': 16, 'n_estimators': 1000}, {'criterion': 'entropy', 'min_samples_leaf': 1, 'min_samples_split': 2, 'n_estimators': 50}, {'criterion': 'entropy', 'min_samples_leaf': 1, 'min_samples_split': 2, 'n_estimators': 100}, {'criterion': 'entropy', 'min_samples_leaf': 1, 'min_samples_split': 2, 'n_estimators': 400}, {'criterion': 'entropy', 'min_samples_leaf': 1, 'min_samples_split': 2, 'n_estimators': 700}, {'criterion': 'entropy', 'min_samples_leaf': 1, 'min_samples_split': 2, 'n_estimators': 1000}, {'criterion': 'entropy', 'min_samples_leaf': 1, 'min_samples_split': 4, 'n_estimators': 50}, {'criterion': 'entropy', 'min_samples_leaf': 1, 'min_samples_split': 4, 'n_estimators': 100}, {'criterion': 'entropy', 'min_samples_leaf': 1, 'min_samples_split': 4, 'n_estimators': 400}, {'criterion': 'entropy', 'min_samples_leaf': 1, 'min_samples_split': 4, 'n_estimators': 700}, {'criterion': 'entropy', 'min_samples_leaf': 1, 'min_samples_split': 4, 'n_estimators': 1000}, {'criterion': 'entropy', 'min_samples_leaf': 1, 'min_samples_split': 10, 'n_estimators': 50}, {'criterion': 'entropy', 'min_samples_leaf': 1, 'min_samples_split': 10, 'n_estimators': 100}, {'criterion': 'entropy', 'min_samples_leaf': 1, 'min_samples_split': 10, 'n_estimators': 400}, {'criterion': 'entropy', 'min_samples_leaf': 1, 'min_samples_split': 10, 'n_estimators': 700}, {'criterion': 'entropy', 'min_samples_leaf': 1, 'min_samples_split': 10, 'n_estimators': 1000}, {'criterion': 'entropy', 'min_samples_leaf': 1, 'min_samples_split': 12, 'n_estimators': 50}, {'criterion': 'entropy', 'min_samples_leaf': 1, 'min_samples_split': 12, 'n_estimators': 100}, {'criterion': 'entropy', 'min_samples_leaf': 1, 'min_samples_split': 12, 'n_estimators': 400}, {'criterion': 'entropy', 'min_samples_leaf': 1, 'min_samples_split': 12, 'n_estimators': 700}, {'criterion': 'entropy', 'min_samples_leaf': 1, 'min_samples_split': 12, 'n_estimators': 1000}, {'criterion': 'entropy', 'min_samples_leaf': 1, 'min_samples_split': 16, 'n_estimators': 50}, {'criterion': 'entropy', 'min_samples_leaf': 1, 'min_samples_split': 16, 'n_estimators': 100}, {'criterion': 'entropy', 'min_samples_leaf': 1, 'min_samples_split': 16, 'n_estimators': 400}, {'criterion': 'entropy', 'min_samples_leaf': 1, 'min_samples_split': 16, 'n_estimators': 700}, {'criterion': 'entropy', 'min_samples_leaf': 1, 'min_samples_split': 16, 'n_estimators': 1000}, {'criterion': 'entropy', 'min_samples_leaf': 5, 'min_samples_split': 2, 'n_estimators': 50}, {'criterion': 'entropy', 'min_samples_leaf': 5, 'min_samples_split': 2, 'n_estimators': 100}, {'criterion': 'entropy', 'min_samples_leaf': 5, 'min_samples_split': 2, 'n_estimators': 400}, {'criterion': 'entropy', 'min_samples_leaf': 5, 'min_samples_split': 2, 'n_estimators': 700}, {'criterion': 'entropy', 'min_samples_leaf': 5, 'min_samples_split': 2, 'n_estimators': 1000}, {'criterion': 'entropy', 'min_samples_leaf': 5, 'min_samples_split': 4, 'n_estimators': 50}, {'criterion': 'entropy', 'min_samples_leaf': 5, 'min_samples_split': 4, 'n_estimators': 100}, {'criterion': 'entropy', 'min_samples_leaf': 5, 'min_samples_split': 4, 'n_estimators': 400}, {'criterion': 'entropy', 'min_samples_leaf': 5, 'min_samples_split': 4, 'n_estimators': 700}, {'criterion': 'entropy', 'min_samples_leaf': 5, 'min_samples_split': 4, 'n_estimators': 1000}, {'criterion': 'entropy', 'min_samples_leaf': 5, 'min_samples_split': 10, 'n_estimators': 50}, {'criterion': 'entropy', 'min_samples_leaf': 5, 'min_samples_split': 10, 'n_estimators': 100}, {'criterion': 'entropy', 'min_samples_leaf': 5, 'min_samples_split': 10, 'n_estimators': 400}, {'criterion': 'entropy', 'min_samples_leaf': 5, 'min_samples_split': 10, 'n_estimators': 700}, {'criterion': 'entropy', 'min_samples_leaf': 5, 'min_samples_split': 10, 'n_estimators': 1000}, {'criterion': 'entropy', 'min_samples_leaf': 5, 'min_samples_split': 12, 'n_estimators': 50}, {'criterion': 'entropy', 'min_samples_leaf': 5, 'min_samples_split': 12, 'n_estimators': 100}, {'criterion': 'entropy', 'min_samples_leaf': 5, 'min_samples_split': 12, 'n_estimators': 400}, {'criterion': 'entropy', 'min_samples_leaf': 5, 'min_samples_split': 12, 'n_estimators': 700}, {'criterion': 'entropy', 'min_samples_leaf': 5, 'min_samples_split': 12, 'n_estimators': 1000}, {'criterion': 'entropy', 'min_samples_leaf': 5, 'min_samples_split': 16, 'n_estimators': 50}, {'criterion': 'entropy', 'min_samples_leaf': 5, 'min_samples_split': 16, 'n_estimators': 100}, {'criterion': 'entropy', 'min_samples_leaf': 5, 'min_samples_split': 16, 'n_estimators': 400}, {'criterion': 'entropy', 'min_samples_leaf': 5, 'min_samples_split': 16, 'n_estimators': 700}, {'criterion': 'entropy', 'min_samples_leaf': 5, 'min_samples_split': 16, 'n_estimators': 1000}, {'criterion': 'entropy', 'min_samples_leaf': 10, 'min_samples_split': 2, 'n_estimators': 50}, {'criterion': 'entropy', 'min_samples_leaf': 10, 'min_samples_split': 2, 'n_estimators': 100}, {'criterion': 'entropy', 'min_samples_leaf': 10, 'min_samples_split': 2, 'n_estimators': 400}, {'criterion': 'entropy', 'min_samples_leaf': 10, 'min_samples_split': 2, 'n_estimators': 700}, {'criterion': 'entropy', 'min_samples_leaf': 10, 'min_samples_split': 2, 'n_estimators': 1000}, {'criterion': 'entropy', 'min_samples_leaf': 10, 'min_samples_split': 4, 'n_estimators': 50}, {'criterion': 'entropy', 'min_samples_leaf': 10, 'min_samples_split': 4, 'n_estimators': 100}, {'criterion': 'entropy', 'min_samples_leaf': 10, 'min_samples_split': 4, 'n_estimators': 400}, {'criterion': 'entropy', 'min_samples_leaf': 10, 'min_samples_split': 4, 'n_estimators': 700}, {'criterion': 'entropy', 'min_samples_leaf': 10, 'min_samples_split': 4, 'n_estimators': 1000}, {'criterion': 'entropy', 'min_samples_leaf': 10, 'min_samples_split': 10, 'n_estimators': 50}, {'criterion': 'entropy', 'min_samples_leaf': 10, 'min_samples_split': 10, 'n_estimators': 100}, {'criterion': 'entropy', 'min_samples_leaf': 10, 'min_samples_split': 10, 'n_estimators': 400}, {'criterion': 'entropy', 'min_samples_leaf': 10, 'min_samples_split': 10, 'n_estimators': 700}, {'criterion': 'entropy', 'min_samples_leaf': 10, 'min_samples_split': 10, 'n_estimators': 1000}, {'criterion': 'entropy', 'min_samples_leaf': 10, 'min_samples_split': 12, 'n_estimators': 50}, {'criterion': 'entropy', 'min_samples_leaf': 10, 'min_samples_split': 12, 'n_estimators': 100}, {'criterion': 'entropy', 'min_samples_leaf': 10, 'min_samples_split': 12, 'n_estimators': 400}, {'criterion': 'entropy', 'min_samples_leaf': 10, 'min_samples_split': 12, 'n_estimators': 700}, {'criterion': 'entropy', 'min_samples_leaf': 10, 'min_samples_split': 12, 'n_estimators': 1000}, {'criterion': 'entropy', 'min_samples_leaf': 10, 'min_samples_split': 16, 'n_estimators': 50}, {'criterion': 'entropy', 'min_samples_leaf': 10, 'min_samples_split': 16, 'n_estimators': 100}, {'criterion': 'entropy', 'min_samples_leaf': 10, 'min_samples_split': 16, 'n_estimators': 400}, {'criterion': 'entropy', 'min_samples_leaf': 10, 'min_samples_split': 16, 'n_estimators': 700}, {'criterion': 'entropy', 'min_samples_leaf': 10, 'min_samples_split': 16, 'n_estimators': 1000}], 'split0_test_score': array([0.80808081, 0.82828283, 0.82154882, 0.82154882, 0.81818182,\n",
      "       0.82154882, 0.81818182, 0.82491582, 0.82491582, 0.82828283,\n",
      "       0.80808081, 0.81481481, 0.81144781, 0.81144781, 0.81481481,\n",
      "       0.81144781, 0.81481481, 0.81144781, 0.81144781, 0.81481481,\n",
      "       0.81818182, 0.81818182, 0.80808081, 0.81144781, 0.81818182,\n",
      "       0.82491582, 0.82491582, 0.82154882, 0.82828283, 0.82828283,\n",
      "       0.82491582, 0.82491582, 0.82154882, 0.82828283, 0.82828283,\n",
      "       0.82491582, 0.82491582, 0.82154882, 0.82828283, 0.82828283,\n",
      "       0.83164983, 0.82828283, 0.83501684, 0.82828283, 0.82491582,\n",
      "       0.82154882, 0.82154882, 0.83164983, 0.82154882, 0.82491582,\n",
      "       0.81481481, 0.81481481, 0.82154882, 0.81818182, 0.81818182,\n",
      "       0.81481481, 0.81481481, 0.82154882, 0.81818182, 0.81818182,\n",
      "       0.81481481, 0.81481481, 0.82154882, 0.81818182, 0.81818182,\n",
      "       0.81481481, 0.81481481, 0.82154882, 0.81818182, 0.81818182,\n",
      "       0.81481481, 0.81481481, 0.82154882, 0.81818182, 0.81818182,\n",
      "       0.80808081, 0.81818182, 0.82491582, 0.81481481, 0.81818182,\n",
      "       0.82491582, 0.83164983, 0.82491582, 0.82828283, 0.82491582,\n",
      "       0.8047138 , 0.81144781, 0.81818182, 0.81481481, 0.81481481,\n",
      "       0.82491582, 0.80808081, 0.81481481, 0.81481481, 0.81481481,\n",
      "       0.8013468 , 0.8013468 , 0.80808081, 0.80808081, 0.81144781,\n",
      "       0.82828283, 0.81818182, 0.82491582, 0.81818182, 0.82491582,\n",
      "       0.82828283, 0.81818182, 0.82491582, 0.81818182, 0.82491582,\n",
      "       0.82828283, 0.81818182, 0.82491582, 0.81818182, 0.82491582,\n",
      "       0.81818182, 0.82828283, 0.83164983, 0.82491582, 0.83164983,\n",
      "       0.82154882, 0.82491582, 0.82154882, 0.82491582, 0.82491582,\n",
      "       0.81481481, 0.81481481, 0.81144781, 0.81818182, 0.81818182,\n",
      "       0.81481481, 0.81481481, 0.81144781, 0.81818182, 0.81818182,\n",
      "       0.81481481, 0.81481481, 0.81144781, 0.81818182, 0.81818182,\n",
      "       0.81481481, 0.81481481, 0.81144781, 0.81818182, 0.81818182,\n",
      "       0.81481481, 0.81481481, 0.81144781, 0.81818182, 0.81818182]), 'split1_test_score': array([0.84848485, 0.84511785, 0.85185185, 0.85521886, 0.84848485,\n",
      "       0.84175084, 0.82828283, 0.84511785, 0.84511785, 0.84511785,\n",
      "       0.84511785, 0.85185185, 0.85521886, 0.85858586, 0.85858586,\n",
      "       0.84848485, 0.84511785, 0.85858586, 0.85858586, 0.85185185,\n",
      "       0.85185185, 0.84848485, 0.85185185, 0.85185185, 0.84511785,\n",
      "       0.85521886, 0.85185185, 0.84511785, 0.84175084, 0.84175084,\n",
      "       0.85521886, 0.85185185, 0.84511785, 0.84175084, 0.84175084,\n",
      "       0.85521886, 0.85185185, 0.84511785, 0.84175084, 0.84175084,\n",
      "       0.84511785, 0.84175084, 0.83838384, 0.83838384, 0.83838384,\n",
      "       0.84511785, 0.84175084, 0.84175084, 0.83838384, 0.84175084,\n",
      "       0.83164983, 0.83164983, 0.83164983, 0.83164983, 0.83164983,\n",
      "       0.83164983, 0.83164983, 0.83164983, 0.83164983, 0.83164983,\n",
      "       0.83164983, 0.83164983, 0.83164983, 0.83164983, 0.83164983,\n",
      "       0.83164983, 0.83164983, 0.83164983, 0.83164983, 0.83164983,\n",
      "       0.83164983, 0.83164983, 0.83164983, 0.83164983, 0.83164983,\n",
      "       0.84175084, 0.84848485, 0.84511785, 0.85185185, 0.84848485,\n",
      "       0.84175084, 0.83501684, 0.84848485, 0.84511785, 0.84848485,\n",
      "       0.84848485, 0.84848485, 0.84848485, 0.85185185, 0.85185185,\n",
      "       0.86195286, 0.86195286, 0.85858586, 0.85858586, 0.85858586,\n",
      "       0.84848485, 0.84848485, 0.85185185, 0.85185185, 0.85521886,\n",
      "       0.85185185, 0.86195286, 0.84175084, 0.84175084, 0.84175084,\n",
      "       0.85185185, 0.86195286, 0.84175084, 0.84175084, 0.84175084,\n",
      "       0.85185185, 0.86195286, 0.84175084, 0.84175084, 0.84175084,\n",
      "       0.85521886, 0.85521886, 0.84511785, 0.83838384, 0.84175084,\n",
      "       0.84511785, 0.85185185, 0.83838384, 0.83838384, 0.83838384,\n",
      "       0.82828283, 0.83501684, 0.83164983, 0.83164983, 0.83501684,\n",
      "       0.82828283, 0.83501684, 0.83164983, 0.83164983, 0.83501684,\n",
      "       0.82828283, 0.83501684, 0.83164983, 0.83164983, 0.83501684,\n",
      "       0.82828283, 0.83501684, 0.83164983, 0.83164983, 0.83501684,\n",
      "       0.82828283, 0.83501684, 0.83164983, 0.83164983, 0.83501684]), 'split2_test_score': array([0.81481481, 0.81818182, 0.80808081, 0.81144781, 0.81144781,\n",
      "       0.84848485, 0.83501684, 0.82491582, 0.82491582, 0.82491582,\n",
      "       0.83164983, 0.82828283, 0.82491582, 0.82491582, 0.82491582,\n",
      "       0.82828283, 0.82828283, 0.82491582, 0.82828283, 0.82828283,\n",
      "       0.82154882, 0.82828283, 0.82491582, 0.83164983, 0.82828283,\n",
      "       0.81481481, 0.81144781, 0.82154882, 0.82154882, 0.82154882,\n",
      "       0.81481481, 0.81144781, 0.82154882, 0.82154882, 0.82154882,\n",
      "       0.81481481, 0.81144781, 0.82154882, 0.82154882, 0.82154882,\n",
      "       0.81144781, 0.81818182, 0.82154882, 0.82154882, 0.82154882,\n",
      "       0.81818182, 0.82154882, 0.81818182, 0.82154882, 0.82154882,\n",
      "       0.7979798 , 0.81481481, 0.79461279, 0.79461279, 0.79461279,\n",
      "       0.7979798 , 0.81481481, 0.79461279, 0.79461279, 0.79461279,\n",
      "       0.7979798 , 0.81481481, 0.79461279, 0.79461279, 0.79461279,\n",
      "       0.7979798 , 0.81481481, 0.79461279, 0.79461279, 0.79461279,\n",
      "       0.7979798 , 0.81481481, 0.79461279, 0.79461279, 0.79461279,\n",
      "       0.82154882, 0.81818182, 0.82154882, 0.81481481, 0.81818182,\n",
      "       0.82491582, 0.83501684, 0.82828283, 0.82491582, 0.82154882,\n",
      "       0.83838384, 0.82828283, 0.83164983, 0.83164983, 0.83164983,\n",
      "       0.84175084, 0.83838384, 0.82828283, 0.82154882, 0.82491582,\n",
      "       0.83501684, 0.83164983, 0.82828283, 0.82828283, 0.82828283,\n",
      "       0.81818182, 0.82154882, 0.82154882, 0.82154882, 0.82154882,\n",
      "       0.81818182, 0.82154882, 0.82154882, 0.82154882, 0.82154882,\n",
      "       0.81818182, 0.82154882, 0.82154882, 0.82154882, 0.82154882,\n",
      "       0.81818182, 0.81818182, 0.82154882, 0.82154882, 0.82154882,\n",
      "       0.81144781, 0.81481481, 0.82154882, 0.82154882, 0.82154882,\n",
      "       0.7979798 , 0.80808081, 0.79461279, 0.79461279, 0.79461279,\n",
      "       0.7979798 , 0.80808081, 0.79461279, 0.79461279, 0.79461279,\n",
      "       0.7979798 , 0.80808081, 0.79461279, 0.79461279, 0.79461279,\n",
      "       0.7979798 , 0.80808081, 0.79461279, 0.79461279, 0.79461279,\n",
      "       0.7979798 , 0.80808081, 0.79461279, 0.79461279, 0.79461279]), 'mean_test_score': array([0.82379349, 0.8305275 , 0.82716049, 0.82940516, 0.82603816,\n",
      "       0.8372615 , 0.82716049, 0.83164983, 0.83164983, 0.83277217,\n",
      "       0.82828283, 0.83164983, 0.8305275 , 0.83164983, 0.83277217,\n",
      "       0.82940516, 0.82940516, 0.83164983, 0.83277217, 0.83164983,\n",
      "       0.8305275 , 0.83164983, 0.82828283, 0.83164983, 0.8305275 ,\n",
      "       0.83164983, 0.82940516, 0.82940516, 0.8305275 , 0.8305275 ,\n",
      "       0.83164983, 0.82940516, 0.82940516, 0.8305275 , 0.8305275 ,\n",
      "       0.83164983, 0.82940516, 0.82940516, 0.8305275 , 0.8305275 ,\n",
      "       0.82940516, 0.82940516, 0.83164983, 0.82940516, 0.82828283,\n",
      "       0.82828283, 0.82828283, 0.8305275 , 0.82716049, 0.82940516,\n",
      "       0.81481481, 0.82042649, 0.81593715, 0.81481481, 0.81481481,\n",
      "       0.81481481, 0.82042649, 0.81593715, 0.81481481, 0.81481481,\n",
      "       0.81481481, 0.82042649, 0.81593715, 0.81481481, 0.81481481,\n",
      "       0.81481481, 0.82042649, 0.81593715, 0.81481481, 0.81481481,\n",
      "       0.81481481, 0.82042649, 0.81593715, 0.81481481, 0.81481481,\n",
      "       0.82379349, 0.82828283, 0.8305275 , 0.82716049, 0.82828283,\n",
      "       0.8305275 , 0.8338945 , 0.8338945 , 0.83277217, 0.83164983,\n",
      "       0.8305275 , 0.82940516, 0.83277217, 0.83277217, 0.83277217,\n",
      "       0.84287318, 0.83613917, 0.8338945 , 0.83164983, 0.83277217,\n",
      "       0.82828283, 0.82716049, 0.82940516, 0.82940516, 0.83164983,\n",
      "       0.83277217, 0.8338945 , 0.82940516, 0.82716049, 0.82940516,\n",
      "       0.83277217, 0.8338945 , 0.82940516, 0.82716049, 0.82940516,\n",
      "       0.83277217, 0.8338945 , 0.82940516, 0.82716049, 0.82940516,\n",
      "       0.8305275 , 0.8338945 , 0.83277217, 0.82828283, 0.83164983,\n",
      "       0.82603816, 0.8305275 , 0.82716049, 0.82828283, 0.82828283,\n",
      "       0.81369248, 0.81930415, 0.81257015, 0.81481481, 0.81593715,\n",
      "       0.81369248, 0.81930415, 0.81257015, 0.81481481, 0.81593715,\n",
      "       0.81369248, 0.81930415, 0.81257015, 0.81481481, 0.81593715,\n",
      "       0.81369248, 0.81930415, 0.81257015, 0.81481481, 0.81593715,\n",
      "       0.81369248, 0.81930415, 0.81257015, 0.81481481, 0.81593715]), 'std_test_score': array([0.01767454, 0.01111054, 0.01830472, 0.01871305, 0.01610853,\n",
      "       0.01144561, 0.00691853, 0.00952332, 0.00952332, 0.00883727,\n",
      "       0.0153066 , 0.0153066 , 0.01830472, 0.01982438, 0.01871305,\n",
      "       0.01514112, 0.01239659, 0.01982438, 0.01950409, 0.0153066 ,\n",
      "       0.01514112, 0.01259817, 0.01802736, 0.01649488, 0.01111054,\n",
      "       0.01716842, 0.01679756, 0.01111054, 0.00839878, 0.00839878,\n",
      "       0.01716842, 0.01679756, 0.01111054, 0.00839878, 0.00839878,\n",
      "       0.01716842, 0.01679756, 0.01111054, 0.00839878, 0.00839878,\n",
      "       0.01383707, 0.00965469, 0.00727356, 0.00691853, 0.00727356,\n",
      "       0.01198325, 0.00952332, 0.00965469, 0.0079361 , 0.00883727,\n",
      "       0.01374573, 0.0079361 , 0.01563231, 0.0153066 , 0.0153066 ,\n",
      "       0.01374573, 0.0079361 , 0.01563231, 0.0153066 , 0.0153066 ,\n",
      "       0.01374573, 0.0079361 , 0.01563231, 0.0153066 , 0.0153066 ,\n",
      "       0.01374573, 0.0079361 , 0.01563231, 0.0153066 , 0.0153066 ,\n",
      "       0.01374573, 0.0079361 , 0.01563231, 0.0153066 , 0.0153066 ,\n",
      "       0.01383707, 0.01428499, 0.0104081 , 0.01745943, 0.01428499,\n",
      "       0.0079361 , 0.00158722, 0.0104081 , 0.00883727, 0.01198325,\n",
      "       0.01871305, 0.01514112, 0.01239659, 0.01514112, 0.01514112,\n",
      "       0.01514112, 0.02205037, 0.01830472, 0.01924403, 0.01871305,\n",
      "       0.01982438, 0.01950409, 0.01788707, 0.01788707, 0.01802736,\n",
      "       0.01410753, 0.01988782, 0.00883727, 0.0104081 , 0.00883727,\n",
      "       0.01410753, 0.01988782, 0.00883727, 0.0104081 , 0.00883727,\n",
      "       0.01410753, 0.01988782, 0.00883727, 0.0104081 , 0.00883727,\n",
      "       0.01745943, 0.01563231, 0.00965469, 0.00727356, 0.00824744,\n",
      "       0.01410753, 0.01563231, 0.0079361 , 0.00727356, 0.00727356,\n",
      "       0.01239659, 0.01144561, 0.01514112, 0.0153066 , 0.01657107,\n",
      "       0.01239659, 0.01144561, 0.01514112, 0.0153066 , 0.01657107,\n",
      "       0.01239659, 0.01144561, 0.01514112, 0.0153066 , 0.01657107,\n",
      "       0.01239659, 0.01144561, 0.01514112, 0.0153066 , 0.01657107,\n",
      "       0.01239659, 0.01144561, 0.01514112, 0.0153066 , 0.01657107]), 'rank_test_score': array([ 99,  39,  88,  55,  97,   2,  88,  23,  23,  11,  77,  23,  39,\n",
      "        23,  11,  55,  55,  23,  11,  23,  39,  23,  77,  23,  39,  23,\n",
      "        55,  55,  39,  39,  23,  55,  55,  39,  39,  23,  55,  55,  39,\n",
      "        39,  55,  55,  23,  55,  77,  77,  77,  39,  88,  55, 121, 101,\n",
      "       111, 121, 121, 121, 101, 111, 121, 121, 121, 101, 111, 121, 121,\n",
      "       121, 101, 111, 121, 121, 121, 101, 111, 121, 121,  99,  77,  39,\n",
      "        88,  77,  39,   4,   4,  11,  23,  39,  55,  11,  11,  11,   1,\n",
      "         3,   4,  23,  11,  77,  88,  55,  55,  23,  11,   4,  55,  88,\n",
      "        55,  11,   4,  55,  88,  55,  11,   4,  55,  88,  55,  39,   4,\n",
      "        11,  77,  23,  97,  39,  88,  77,  77, 141, 106, 146, 121, 111,\n",
      "       141, 106, 146, 121, 111, 141, 106, 146, 121, 111, 141, 106, 146,\n",
      "       121, 111, 141, 106, 146, 121, 111])}\n"
     ]
    }
   ],
   "source": [
    "rf = RandomForestClassifier(max_features = 'auto',\n",
    "                           oob_score = True,\n",
    "                           random_state = 1,\n",
    "                           n_jobs = -1)\n",
    "\n",
    "param_grid = {\"criterion\": ['gini', 'entropy'], 'min_samples_leaf': [1, 5, 10],\n",
    "             'min_samples_split': [2, 4, 10, 12, 16], 'n_estimators': [50, 100, 400, 700, 1000]}\n",
    "\n",
    "gs = GridSearchCV(estimator = rf, param_grid = param_grid, scoring = 'accuracy', cv = 3, n_jobs = -1)\n",
    "\n",
    "gs = gs.fit(train.iloc[:, 1:], train.iloc[:, 0])\n",
    "\n",
    "print(gs.best_score_)\n",
    "print(gs.best_params_)\n",
    "print(gs.cv_results_)"
   ]
  },
  {
   "cell_type": "markdown",
   "metadata": {},
   "source": [
    "## Model Deployment"
   ]
  },
  {
   "cell_type": "code",
   "execution_count": 54,
   "metadata": {},
   "outputs": [
    {
     "name": "stdout",
     "output_type": "stream",
     "text": [
      "0.8316\n"
     ]
    }
   ],
   "source": [
    "rf = RandomForestClassifier(criterion = 'entropy',\n",
    "                           n_estimators = 50,\n",
    "                           min_samples_split = 12,\n",
    "                           min_samples_leaf = 1,\n",
    "                           max_features = 'auto',\n",
    "                           oob_score = True,\n",
    "                           random_state = 1,\n",
    "                           n_jobs = -1)\n",
    "\n",
    "rf.fit(train.iloc[:, 1:], train.iloc[:, 0])\n",
    "print('%.4f'%rf.oob_score_)"
   ]
  },
  {
   "cell_type": "code",
   "execution_count": 55,
   "metadata": {},
   "outputs": [
    {
     "data": {
      "text/html": [
       "<div>\n",
       "<style scoped>\n",
       "    .dataframe tbody tr th:only-of-type {\n",
       "        vertical-align: middle;\n",
       "    }\n",
       "\n",
       "    .dataframe tbody tr th {\n",
       "        vertical-align: top;\n",
       "    }\n",
       "\n",
       "    .dataframe thead th {\n",
       "        text-align: right;\n",
       "    }\n",
       "</style>\n",
       "<table border=\"1\" class=\"dataframe\">\n",
       "  <thead>\n",
       "    <tr style=\"text-align: right;\">\n",
       "      <th></th>\n",
       "      <th>variable</th>\n",
       "      <th>importance</th>\n",
       "    </tr>\n",
       "  </thead>\n",
       "  <tbody>\n",
       "    <tr>\n",
       "      <th>1</th>\n",
       "      <td>Fare</td>\n",
       "      <td>0.115036</td>\n",
       "    </tr>\n",
       "    <tr>\n",
       "      <th>8</th>\n",
       "      <td>Sex_male</td>\n",
       "      <td>0.105274</td>\n",
       "    </tr>\n",
       "    <tr>\n",
       "      <th>0</th>\n",
       "      <td>Age</td>\n",
       "      <td>0.099192</td>\n",
       "    </tr>\n",
       "    <tr>\n",
       "      <th>9</th>\n",
       "      <td>Sex_female</td>\n",
       "      <td>0.096953</td>\n",
       "    </tr>\n",
       "    <tr>\n",
       "      <th>2</th>\n",
       "      <td>Name_Len</td>\n",
       "      <td>0.092521</td>\n",
       "    </tr>\n",
       "    <tr>\n",
       "      <th>30</th>\n",
       "      <td>Name_Title_Mr.</td>\n",
       "      <td>0.082495</td>\n",
       "    </tr>\n",
       "    <tr>\n",
       "      <th>7</th>\n",
       "      <td>Ticket_Len</td>\n",
       "      <td>0.041655</td>\n",
       "    </tr>\n",
       "    <tr>\n",
       "      <th>22</th>\n",
       "      <td>Cabin_Letter_n</td>\n",
       "      <td>0.034919</td>\n",
       "    </tr>\n",
       "    <tr>\n",
       "      <th>38</th>\n",
       "      <td>Fam_Size_Nuclear</td>\n",
       "      <td>0.026972</td>\n",
       "    </tr>\n",
       "    <tr>\n",
       "      <th>32</th>\n",
       "      <td>Name_Title_Miss.</td>\n",
       "      <td>0.026530</td>\n",
       "    </tr>\n",
       "    <tr>\n",
       "      <th>40</th>\n",
       "      <td>Fam_Size_Big</td>\n",
       "      <td>0.026464</td>\n",
       "    </tr>\n",
       "    <tr>\n",
       "      <th>31</th>\n",
       "      <td>Name_Title_Mrs.</td>\n",
       "      <td>0.024158</td>\n",
       "    </tr>\n",
       "    <tr>\n",
       "      <th>16</th>\n",
       "      <td>Ticket_Lett_1</td>\n",
       "      <td>0.023627</td>\n",
       "    </tr>\n",
       "    <tr>\n",
       "      <th>20</th>\n",
       "      <td>Ticket_Lett_Low_ticket</td>\n",
       "      <td>0.020530</td>\n",
       "    </tr>\n",
       "    <tr>\n",
       "      <th>17</th>\n",
       "      <td>Ticket_Lett_3</td>\n",
       "      <td>0.016205</td>\n",
       "    </tr>\n",
       "    <tr>\n",
       "      <th>4</th>\n",
       "      <td>Cabin_num_(1.999, 28.667]</td>\n",
       "      <td>0.013265</td>\n",
       "    </tr>\n",
       "    <tr>\n",
       "      <th>18</th>\n",
       "      <td>Ticket_Lett_2</td>\n",
       "      <td>0.013021</td>\n",
       "    </tr>\n",
       "    <tr>\n",
       "      <th>39</th>\n",
       "      <td>Fam_Size_Solo</td>\n",
       "      <td>0.012770</td>\n",
       "    </tr>\n",
       "    <tr>\n",
       "      <th>10</th>\n",
       "      <td>Embarked_S</td>\n",
       "      <td>0.012740</td>\n",
       "    </tr>\n",
       "    <tr>\n",
       "      <th>11</th>\n",
       "      <td>Embarked_C</td>\n",
       "      <td>0.012710</td>\n",
       "    </tr>\n",
       "  </tbody>\n",
       "</table>\n",
       "</div>"
      ],
      "text/plain": [
       "                     variable  importance\n",
       "1                        Fare    0.115036\n",
       "8                    Sex_male    0.105274\n",
       "0                         Age    0.099192\n",
       "9                  Sex_female    0.096953\n",
       "2                    Name_Len    0.092521\n",
       "30             Name_Title_Mr.    0.082495\n",
       "7                  Ticket_Len    0.041655\n",
       "22             Cabin_Letter_n    0.034919\n",
       "38           Fam_Size_Nuclear    0.026972\n",
       "32           Name_Title_Miss.    0.026530\n",
       "40               Fam_Size_Big    0.026464\n",
       "31            Name_Title_Mrs.    0.024158\n",
       "16              Ticket_Lett_1    0.023627\n",
       "20     Ticket_Lett_Low_ticket    0.020530\n",
       "17              Ticket_Lett_3    0.016205\n",
       "4   Cabin_num_(1.999, 28.667]    0.013265\n",
       "18              Ticket_Lett_2    0.013021\n",
       "39              Fam_Size_Solo    0.012770\n",
       "10                 Embarked_S    0.012740\n",
       "11                 Embarked_C    0.012710"
      ]
     },
     "execution_count": 55,
     "metadata": {},
     "output_type": "execute_result"
    }
   ],
   "source": [
    "# Variable importance\n",
    "\n",
    "pd.concat((pd.DataFrame(train.iloc[:, 1:].columns, columns = ['variable']),\n",
    "          pd.DataFrame(rf.feature_importances_, columns = ['importance'])),\n",
    "         axis = 1).sort_values(by = 'importance', ascending = False)[:20]"
   ]
  }
 ],
 "metadata": {
  "kernelspec": {
   "display_name": "Python 3",
   "language": "python",
   "name": "python3"
  },
  "language_info": {
   "codemirror_mode": {
    "name": "ipython",
    "version": 3
   },
   "file_extension": ".py",
   "mimetype": "text/x-python",
   "name": "python",
   "nbconvert_exporter": "python",
   "pygments_lexer": "ipython3",
   "version": "3.7.3"
  }
 },
 "nbformat": 4,
 "nbformat_minor": 2
}
